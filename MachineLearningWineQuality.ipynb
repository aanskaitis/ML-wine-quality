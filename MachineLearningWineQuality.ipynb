{
  "nbformat": 4,
  "nbformat_minor": 0,
  "metadata": {
    "colab": {
      "name": "CSC2034DataScience.ipynb",
      "provenance": [],
      "collapsed_sections": [
        "yOPu0LON3csx",
        "Rxk8U5_k6nkQ",
        "F1RrOtHtykH8",
        "FHL9t5cIdk0a",
        "Pfkfp4mg9rgW",
        "XzCYPdrV90gQ",
        "0xLzZ0E28Tl1",
        "VxJNPlMSKZvR",
        "Xl0AcOe7kOZZ",
        "D9Ygja2aoW4H",
        "i8BcWzLW2MMk",
        "zLGyvuAqOpJV",
        "rCRt33G0Ua1E",
        "eyYtXiBbUjT4",
        "qFKBCG8FaqHb",
        "MRb3TGv10AQg",
        "nnQFZy3eeUgE",
        "o5iMzifkUol6",
        "z93k85Dj35FU",
        "m3CWCmBx6a2l",
        "t-RanLO27BRG",
        "tr6VZUUf7W4Y"
      ],
      "toc_visible": true
    },
    "kernelspec": {
      "name": "python3",
      "display_name": "Python 3"
    },
    "language_info": {
      "name": "python"
    }
  },
  "cells": [
    {
      "cell_type": "markdown",
      "metadata": {
        "id": "YJaX3cSdzpxr"
      },
      "source": [
        "# Imports and datasets"
      ]
    },
    {
      "cell_type": "code",
      "metadata": {
        "id": "-_K8iNF3-eJD"
      },
      "source": [
        "import pandas as pd\n",
        "import numpy as np\n",
        "import matplotlib.pyplot as plt\n",
        "import seaborn as sns\n",
        "\n",
        "from sklearn.model_selection import train_test_split, cross_val_score, GridSearchCV\n",
        "from sklearn.preprocessing import StandardScaler\n",
        "from sklearn.linear_model import LinearRegression, LogisticRegression\n",
        "from sklearn.metrics import mean_absolute_error, classification_report\n",
        "from sklearn.feature_selection import mutual_info_regression, mutual_info_classif\n",
        "\n",
        "from collections import Counter\n",
        "from sklearn.svm import SVC, SVR\n",
        "from sklearn.ensemble import RandomForestClassifier, RandomForestRegressor\n",
        "import xgboost as xgb"
      ],
      "execution_count": null,
      "outputs": []
    },
    {
      "cell_type": "code",
      "metadata": {
        "id": "8mtR4yJuAPN-"
      },
      "source": [
        "white_df = pd.read_csv('winequality-white.csv', sep=';')\n",
        "red_df = pd.read_csv('winequality-red.csv', sep=';')\n",
        "\n",
        "numerical = ['fixed acidity', 'volatile acidity', 'citric acid', 'residual sugar',\n",
        "              'chlorides', 'free sulfur dioxide', 'total sulfur dioxide', 'density',\n",
        "              'pH', 'sulphates', 'alcohol']\n",
        "\n",
        "categorical = []\n",
        "\n",
        "regr_pred_feat = 'quality'\n",
        "classif_pred_feat = 'is_high_quality'\n",
        "\n",
        "sns.set_theme()\n",
        "seed = 10"
      ],
      "execution_count": null,
      "outputs": []
    },
    {
      "cell_type": "markdown",
      "metadata": {
        "id": "Kya-dTnd2i0u"
      },
      "source": [
        "# Intro analysis"
      ]
    },
    {
      "cell_type": "markdown",
      "metadata": {
        "id": "NN7dlil2TcC0"
      },
      "source": [
        "We can create two subplots to analyze and compare white and red wine quality distribution."
      ]
    },
    {
      "cell_type": "code",
      "metadata": {
        "colab": {
          "base_uri": "https://localhost:8080/",
          "height": 301
        },
        "id": "dxQKP83OT_Yn",
        "outputId": "b4656756-9523-4ac1-9e4a-5c428e152ba1"
      },
      "source": [
        "fig, (ax1, ax2) = plt.subplots(1, 2)\n",
        "plt.subplots_adjust(wspace=0.5)\n",
        "ax1.set_title(\"white wine\")\n",
        "ax2.set_title(\"red wine\")\n",
        "sns.countplot(x='quality', data=white_df, order=sorted(white_df['quality'].unique()), ax=ax1)\n",
        "sns.countplot(x='quality', data=red_df, order=sorted(red_df['quality'].unique()), ax=ax2)\n",
        "fig.show()"
      ],
      "execution_count": null,
      "outputs": [
        {
          "output_type": "display_data",
          "data": {
            "image/png": "[encoded data removed]",
            "text/plain": [
              "<Figure size 432x288 with 2 Axes>"
            ]
          },
          "metadata": {
            "tags": []
          }
        }
      ]
    },
    {
      "cell_type": "markdown",
      "metadata": {
        "id": "Gi0MygxdUNBq"
      },
      "source": [
        "Now that we see how quality is distributed, let's look at and analyze statistics summary of all variables."
      ]
    },
    {
      "cell_type": "code",
      "metadata": {
        "colab": {
          "base_uri": "https://localhost:8080/",
          "height": 338
        },
        "id": "oWpiUSIiKUWQ",
        "outputId": "c7675649-9873-4c5c-bf37-66097025d453"
      },
      "source": [
        "white_df.describe()"
      ],
      "execution_count": null,
      "outputs": [
        {
          "output_type": "execute_result",
          "data": {
            "text/html": [
              "<div>\n",
              "<style scoped>\n",
              "    .dataframe tbody tr th:only-of-type {\n",
              "        vertical-align: middle;\n",
              "    }\n",
              "\n",
              "    .dataframe tbody tr th {\n",
              "        vertical-align: top;\n",
              "    }\n",
              "\n",
              "    .dataframe thead th {\n",
              "        text-align: right;\n",
              "    }\n",
              "</style>\n",
              "<table border=\"1\" class=\"dataframe\">\n",
              "  <thead>\n",
              "    <tr style=\"text-align: right;\">\n",
              "      <th></th>\n",
              "      <th>fixed acidity</th>\n",
              "      <th>volatile acidity</th>\n",
              "      <th>citric acid</th>\n",
              "      <th>residual sugar</th>\n",
              "      <th>chlorides</th>\n",
              "      <th>free sulfur dioxide</th>\n",
              "      <th>total sulfur dioxide</th>\n",
              "      <th>density</th>\n",
              "      <th>pH</th>\n",
              "      <th>sulphates</th>\n",
              "      <th>alcohol</th>\n",
              "      <th>quality</th>\n",
              "    </tr>\n",
              "  </thead>\n",
              "  <tbody>\n",
              "    <tr>\n",
              "      <th>count</th>\n",
              "      <td>4898.000000</td>\n",
              "      <td>4898.000000</td>\n",
              "      <td>4898.000000</td>\n",
              "      <td>4898.000000</td>\n",
              "      <td>4898.000000</td>\n",
              "      <td>4898.000000</td>\n",
              "      <td>4898.000000</td>\n",
              "      <td>4898.000000</td>\n",
              "      <td>4898.000000</td>\n",
              "      <td>4898.000000</td>\n",
              "      <td>4898.000000</td>\n",
              "      <td>4898.000000</td>\n",
              "    </tr>\n",
              "    <tr>\n",
              "      <th>mean</th>\n",
              "      <td>6.854788</td>\n",
              "      <td>0.278241</td>\n",
              "      <td>0.334192</td>\n",
              "      <td>6.391415</td>\n",
              "      <td>0.045772</td>\n",
              "      <td>35.308085</td>\n",
              "      <td>138.360657</td>\n",
              "      <td>0.994027</td>\n",
              "      <td>3.188267</td>\n",
              "      <td>0.489847</td>\n",
              "      <td>10.514267</td>\n",
              "      <td>5.877909</td>\n",
              "    </tr>\n",
              "    <tr>\n",
              "      <th>std</th>\n",
              "      <td>0.843868</td>\n",
              "      <td>0.100795</td>\n",
              "      <td>0.121020</td>\n",
              "      <td>5.072058</td>\n",
              "      <td>0.021848</td>\n",
              "      <td>17.007137</td>\n",
              "      <td>42.498065</td>\n",
              "      <td>0.002991</td>\n",
              "      <td>0.151001</td>\n",
              "      <td>0.114126</td>\n",
              "      <td>1.230621</td>\n",
              "      <td>0.885639</td>\n",
              "    </tr>\n",
              "    <tr>\n",
              "      <th>min</th>\n",
              "      <td>3.800000</td>\n",
              "      <td>0.080000</td>\n",
              "      <td>0.000000</td>\n",
              "      <td>0.600000</td>\n",
              "      <td>0.009000</td>\n",
              "      <td>2.000000</td>\n",
              "      <td>9.000000</td>\n",
              "      <td>0.987110</td>\n",
              "      <td>2.720000</td>\n",
              "      <td>0.220000</td>\n",
              "      <td>8.000000</td>\n",
              "      <td>3.000000</td>\n",
              "    </tr>\n",
              "    <tr>\n",
              "      <th>25%</th>\n",
              "      <td>6.300000</td>\n",
              "      <td>0.210000</td>\n",
              "      <td>0.270000</td>\n",
              "      <td>1.700000</td>\n",
              "      <td>0.036000</td>\n",
              "      <td>23.000000</td>\n",
              "      <td>108.000000</td>\n",
              "      <td>0.991723</td>\n",
              "      <td>3.090000</td>\n",
              "      <td>0.410000</td>\n",
              "      <td>9.500000</td>\n",
              "      <td>5.000000</td>\n",
              "    </tr>\n",
              "    <tr>\n",
              "      <th>50%</th>\n",
              "      <td>6.800000</td>\n",
              "      <td>0.260000</td>\n",
              "      <td>0.320000</td>\n",
              "      <td>5.200000</td>\n",
              "      <td>0.043000</td>\n",
              "      <td>34.000000</td>\n",
              "      <td>134.000000</td>\n",
              "      <td>0.993740</td>\n",
              "      <td>3.180000</td>\n",
              "      <td>0.470000</td>\n",
              "      <td>10.400000</td>\n",
              "      <td>6.000000</td>\n",
              "    </tr>\n",
              "    <tr>\n",
              "      <th>75%</th>\n",
              "      <td>7.300000</td>\n",
              "      <td>0.320000</td>\n",
              "      <td>0.390000</td>\n",
              "      <td>9.900000</td>\n",
              "      <td>0.050000</td>\n",
              "      <td>46.000000</td>\n",
              "      <td>167.000000</td>\n",
              "      <td>0.996100</td>\n",
              "      <td>3.280000</td>\n",
              "      <td>0.550000</td>\n",
              "      <td>11.400000</td>\n",
              "      <td>6.000000</td>\n",
              "    </tr>\n",
              "    <tr>\n",
              "      <th>max</th>\n",
              "      <td>14.200000</td>\n",
              "      <td>1.100000</td>\n",
              "      <td>1.660000</td>\n",
              "      <td>65.800000</td>\n",
              "      <td>0.346000</td>\n",
              "      <td>289.000000</td>\n",
              "      <td>440.000000</td>\n",
              "      <td>1.038980</td>\n",
              "      <td>3.820000</td>\n",
              "      <td>1.080000</td>\n",
              "      <td>14.200000</td>\n",
              "      <td>9.000000</td>\n",
              "    </tr>\n",
              "  </tbody>\n",
              "</table>\n",
              "</div>"
            ],
            "text/plain": [
              "       fixed acidity  volatile acidity  ...      alcohol      quality\n",
              "count    4898.000000       4898.000000  ...  4898.000000  4898.000000\n",
              "mean        6.854788          0.278241  ...    10.514267     5.877909\n",
              "std         0.843868          0.100795  ...     1.230621     0.885639\n",
              "min         3.800000          0.080000  ...     8.000000     3.000000\n",
              "25%         6.300000          0.210000  ...     9.500000     5.000000\n",
              "50%         6.800000          0.260000  ...    10.400000     6.000000\n",
              "75%         7.300000          0.320000  ...    11.400000     6.000000\n",
              "max        14.200000          1.100000  ...    14.200000     9.000000\n",
              "\n",
              "[8 rows x 12 columns]"
            ]
          },
          "metadata": {
            "tags": []
          },
          "execution_count": 7
        }
      ]
    },
    {
      "cell_type": "code",
      "metadata": {
        "colab": {
          "base_uri": "https://localhost:8080/",
          "height": 338
        },
        "id": "CE0u5DBrKZ60",
        "outputId": "c0ff2694-33eb-41f4-aa5f-01ca237c5403"
      },
      "source": [
        "red_df.describe()"
      ],
      "execution_count": null,
      "outputs": [
        {
          "output_type": "execute_result",
          "data": {
            "text/html": [
              "<div>\n",
              "<style scoped>\n",
              "    .dataframe tbody tr th:only-of-type {\n",
              "        vertical-align: middle;\n",
              "    }\n",
              "\n",
              "    .dataframe tbody tr th {\n",
              "        vertical-align: top;\n",
              "    }\n",
              "\n",
              "    .dataframe thead th {\n",
              "        text-align: right;\n",
              "    }\n",
              "</style>\n",
              "<table border=\"1\" class=\"dataframe\">\n",
              "  <thead>\n",
              "    <tr style=\"text-align: right;\">\n",
              "      <th></th>\n",
              "      <th>fixed acidity</th>\n",
              "      <th>volatile acidity</th>\n",
              "      <th>citric acid</th>\n",
              "      <th>residual sugar</th>\n",
              "      <th>chlorides</th>\n",
              "      <th>free sulfur dioxide</th>\n",
              "      <th>total sulfur dioxide</th>\n",
              "      <th>density</th>\n",
              "      <th>pH</th>\n",
              "      <th>sulphates</th>\n",
              "      <th>alcohol</th>\n",
              "      <th>quality</th>\n",
              "    </tr>\n",
              "  </thead>\n",
              "  <tbody>\n",
              "    <tr>\n",
              "      <th>count</th>\n",
              "      <td>1599.000000</td>\n",
              "      <td>1599.000000</td>\n",
              "      <td>1599.000000</td>\n",
              "      <td>1599.000000</td>\n",
              "      <td>1599.000000</td>\n",
              "      <td>1599.000000</td>\n",
              "      <td>1599.000000</td>\n",
              "      <td>1599.000000</td>\n",
              "      <td>1599.000000</td>\n",
              "      <td>1599.000000</td>\n",
              "      <td>1599.000000</td>\n",
              "      <td>1599.000000</td>\n",
              "    </tr>\n",
              "    <tr>\n",
              "      <th>mean</th>\n",
              "      <td>8.319637</td>\n",
              "      <td>0.527821</td>\n",
              "      <td>0.270976</td>\n",
              "      <td>2.538806</td>\n",
              "      <td>0.087467</td>\n",
              "      <td>15.874922</td>\n",
              "      <td>46.467792</td>\n",
              "      <td>0.996747</td>\n",
              "      <td>3.311113</td>\n",
              "      <td>0.658149</td>\n",
              "      <td>10.422983</td>\n",
              "      <td>5.636023</td>\n",
              "    </tr>\n",
              "    <tr>\n",
              "      <th>std</th>\n",
              "      <td>1.741096</td>\n",
              "      <td>0.179060</td>\n",
              "      <td>0.194801</td>\n",
              "      <td>1.409928</td>\n",
              "      <td>0.047065</td>\n",
              "      <td>10.460157</td>\n",
              "      <td>32.895324</td>\n",
              "      <td>0.001887</td>\n",
              "      <td>0.154386</td>\n",
              "      <td>0.169507</td>\n",
              "      <td>1.065668</td>\n",
              "      <td>0.807569</td>\n",
              "    </tr>\n",
              "    <tr>\n",
              "      <th>min</th>\n",
              "      <td>4.600000</td>\n",
              "      <td>0.120000</td>\n",
              "      <td>0.000000</td>\n",
              "      <td>0.900000</td>\n",
              "      <td>0.012000</td>\n",
              "      <td>1.000000</td>\n",
              "      <td>6.000000</td>\n",
              "      <td>0.990070</td>\n",
              "      <td>2.740000</td>\n",
              "      <td>0.330000</td>\n",
              "      <td>8.400000</td>\n",
              "      <td>3.000000</td>\n",
              "    </tr>\n",
              "    <tr>\n",
              "      <th>25%</th>\n",
              "      <td>7.100000</td>\n",
              "      <td>0.390000</td>\n",
              "      <td>0.090000</td>\n",
              "      <td>1.900000</td>\n",
              "      <td>0.070000</td>\n",
              "      <td>7.000000</td>\n",
              "      <td>22.000000</td>\n",
              "      <td>0.995600</td>\n",
              "      <td>3.210000</td>\n",
              "      <td>0.550000</td>\n",
              "      <td>9.500000</td>\n",
              "      <td>5.000000</td>\n",
              "    </tr>\n",
              "    <tr>\n",
              "      <th>50%</th>\n",
              "      <td>7.900000</td>\n",
              "      <td>0.520000</td>\n",
              "      <td>0.260000</td>\n",
              "      <td>2.200000</td>\n",
              "      <td>0.079000</td>\n",
              "      <td>14.000000</td>\n",
              "      <td>38.000000</td>\n",
              "      <td>0.996750</td>\n",
              "      <td>3.310000</td>\n",
              "      <td>0.620000</td>\n",
              "      <td>10.200000</td>\n",
              "      <td>6.000000</td>\n",
              "    </tr>\n",
              "    <tr>\n",
              "      <th>75%</th>\n",
              "      <td>9.200000</td>\n",
              "      <td>0.640000</td>\n",
              "      <td>0.420000</td>\n",
              "      <td>2.600000</td>\n",
              "      <td>0.090000</td>\n",
              "      <td>21.000000</td>\n",
              "      <td>62.000000</td>\n",
              "      <td>0.997835</td>\n",
              "      <td>3.400000</td>\n",
              "      <td>0.730000</td>\n",
              "      <td>11.100000</td>\n",
              "      <td>6.000000</td>\n",
              "    </tr>\n",
              "    <tr>\n",
              "      <th>max</th>\n",
              "      <td>15.900000</td>\n",
              "      <td>1.580000</td>\n",
              "      <td>1.000000</td>\n",
              "      <td>15.500000</td>\n",
              "      <td>0.611000</td>\n",
              "      <td>72.000000</td>\n",
              "      <td>289.000000</td>\n",
              "      <td>1.003690</td>\n",
              "      <td>4.010000</td>\n",
              "      <td>2.000000</td>\n",
              "      <td>14.900000</td>\n",
              "      <td>8.000000</td>\n",
              "    </tr>\n",
              "  </tbody>\n",
              "</table>\n",
              "</div>"
            ],
            "text/plain": [
              "       fixed acidity  volatile acidity  ...      alcohol      quality\n",
              "count    1599.000000       1599.000000  ...  1599.000000  1599.000000\n",
              "mean        8.319637          0.527821  ...    10.422983     5.636023\n",
              "std         1.741096          0.179060  ...     1.065668     0.807569\n",
              "min         4.600000          0.120000  ...     8.400000     3.000000\n",
              "25%         7.100000          0.390000  ...     9.500000     5.000000\n",
              "50%         7.900000          0.520000  ...    10.200000     6.000000\n",
              "75%         9.200000          0.640000  ...    11.100000     6.000000\n",
              "max        15.900000          1.580000  ...    14.900000     8.000000\n",
              "\n",
              "[8 rows x 12 columns]"
            ]
          },
          "metadata": {
            "tags": []
          },
          "execution_count": 8
        }
      ]
    },
    {
      "cell_type": "markdown",
      "metadata": {
        "id": "NL3tBUV0SYEM"
      },
      "source": [
        "Lets create another column, where we will represent alcohol content as low, mid or high instead of continuous values. We will use mean and standard deviation, because alcohol values are normally distributed."
      ]
    },
    {
      "cell_type": "code",
      "metadata": {
        "id": "Lj8zt4-W0NxV"
      },
      "source": [
        "def discretize(data):\n",
        "  \"\"\"\n",
        "    Converts pandas Series array containing continuous values into \n",
        "    three categories based on mean and standard deviation.\n",
        "\n",
        "    >>> discretise(pd.Series([1.1, 4, 7, 5]))\n",
        "    ['low', 'mid', 'high', 'mid']\n",
        "  \"\"\"\n",
        "  result = []\n",
        "\n",
        "  for i in data:\n",
        "    if i < data.mean() - data.std():\n",
        "      result.append('low')\n",
        "    elif i > data.mean() + data.std():\n",
        "      result.append('high')\n",
        "    else:\n",
        "      result.append('mid')\n",
        "\n",
        "  return result"
      ],
      "execution_count": null,
      "outputs": []
    },
    {
      "cell_type": "code",
      "metadata": {
        "id": "3ErMQn2t0kIr"
      },
      "source": [
        "white_df['alcohol_cat'] = discretize(white_df['alcohol'])\n",
        "red_df['alcohol_cat'] = discretize(red_df['alcohol'])\n",
        "\n",
        "categorical.append('alcohol_cat')"
      ],
      "execution_count": null,
      "outputs": []
    },
    {
      "cell_type": "markdown",
      "metadata": {
        "id": "WLThJ8y-hLSH"
      },
      "source": [
        "We can then visualize the quality of wine based on its alcohol content category."
      ]
    },
    {
      "cell_type": "code",
      "metadata": {
        "colab": {
          "base_uri": "https://localhost:8080/",
          "height": 425
        },
        "id": "QKR1XXBZIp5h",
        "outputId": "cb8ed657-f4b7-4bf5-cdd3-b8a7c3f63060"
      },
      "source": [
        "for wine_df, wine_name in zip([white_df, red_df], ['white', 'red']):\n",
        "  g = sns.FacetGrid(wine_df, col=\"alcohol_cat\", col_order=['low', 'mid', 'high'])\n",
        "  g.map(sns.countplot, 'quality', order=sorted(wine_df['quality'].unique()))\n",
        "  g.set_ylabels(wine_name)"
      ],
      "execution_count": null,
      "outputs": [
        {
          "output_type": "display_data",
          "data": {
            "image/png": "[encoded data removed]",
            "text/plain": [
              "<Figure size 648x216 with 3 Axes>"
            ]
          },
          "metadata": {
            "tags": []
          }
        },
        {
          "output_type": "display_data",
          "data": {
            "image/png": "[encoded data removed]",
            "text/plain": [
              "<Figure size 648x216 with 3 Axes>"
            ]
          },
          "metadata": {
            "tags": []
          }
        }
      ]
    },
    {
      "cell_type": "markdown",
      "metadata": {
        "id": "M8haBb1PQxFu"
      },
      "source": [
        "By looking at the illustrations, we can draw conclusion that high alcohol content indicates that the wine is more likely to be higher quality. The same trend applies for both white and red wine. Now, lets try to analyse if the amount of sugar has any correlation with the quality of wine."
      ]
    },
    {
      "cell_type": "markdown",
      "metadata": {
        "id": "0d4-Sysq2M1_"
      },
      "source": [
        "We will define a function which will discretize given data into two classes. As we have seen in the statistics summaries, residual sugar variable in both dataframes has some outliers. <br><br> For example, white wine residual sugar:\n",
        "*   25th percentile value is 1.7\n",
        "*   75th percentile value is 9.9\n",
        "*   max value is 65.8\n",
        "\n",
        "and red wine residual sugar:\n",
        "*   25th percentile value is 1.9\n",
        "*   75th percentile value is 2.6\n",
        "*   max value is 15.5\n",
        "\n",
        "<br> We can clearly see that max values are far from the majority of values. Therefore, we will use median to discretise data, because mean could be artificially high considering impact of those outliers."
      ]
    },
    {
      "cell_type": "code",
      "metadata": {
        "id": "iHQmf_H7Xx9s"
      },
      "source": [
        "def discretize_binary(data, threshold=None):\n",
        "  \"\"\"\n",
        "    Convert pandas Series array containing continuous values into \n",
        "    two categories based on median. If the optional argument threshold\n",
        "    is passed, then the data is discretised using given threshold instead of median.\n",
        "\n",
        "    >>> discretise_binary(pd.Series([1, 6, 2.4, 11, 7.1]))\n",
        "    ['no', 'yes', 'no', 'yes', 'yes']\n",
        "\n",
        "    >>> discretise_binary(pd.Series([1, 6, 2.4, 11, 7.1]), threshold=7)\n",
        "    ['no', 'no', 'no', 'yes', 'yes']\n",
        "  \"\"\"\n",
        "  result = []\n",
        "\n",
        "  for i in data:\n",
        "\n",
        "    if threshold != None:\n",
        "      if i < threshold:\n",
        "        result.append('no')\n",
        "      else:\n",
        "        result.append('yes')\n",
        "    \n",
        "    else:\n",
        "      if i < data.median():\n",
        "        result.append('no')\n",
        "      else:\n",
        "        result.append('yes')\n",
        "\n",
        "  return result"
      ],
      "execution_count": null,
      "outputs": []
    },
    {
      "cell_type": "markdown",
      "metadata": {
        "id": "_Ir_Xz4n2paf"
      },
      "source": [
        "Now, lets use our newly defined function to seperate wine into sweet and dry using residual sugar variable and store the result into a new variable called is_sweet. We will also use the same function with an optional argument threshold to discretize quality into two categories low and high for machine learning classification models."
      ]
    },
    {
      "cell_type": "code",
      "metadata": {
        "id": "l7-CWQSbatqW"
      },
      "source": [
        "white_df['is_sweet'] = discretize_binary(white_df['residual sugar'])\n",
        "red_df['is_sweet'] = discretize_binary(red_df['residual sugar'])\n",
        "\n",
        "categorical.append('is_sweet')"
      ],
      "execution_count": null,
      "outputs": []
    },
    {
      "cell_type": "markdown",
      "metadata": {
        "id": "YpwWpi5O5hev"
      },
      "source": [
        "Note that using inappropriate threshold for discretizing quality can lead to class imbalance problem, where the minority class is harder to predict, because the model's learning process is focused on the majority class. We will use Counter to select the best threshold splitting the quality as even as possible."
      ]
    },
    {
      "cell_type": "code",
      "metadata": {
        "colab": {
          "base_uri": "https://localhost:8080/"
        },
        "id": "VQKcsxpW5d6V",
        "outputId": "5518e1d5-3fb1-4fc8-e711-45a063563f41"
      },
      "source": [
        "thresholds = [5, 6, 7]\n",
        "\n",
        "for wine_df, wine_name in zip([white_df, red_df], ['white', 'red']):\n",
        "  for threshold in thresholds:\n",
        "    counter = Counter(discretize_binary(wine_df[regr_pred_feat], threshold))\n",
        "    counter_diff = abs(counter['no'] - counter['yes'])\n",
        "    print(f'{wine_name}, threshold {threshold}, count difference between classes {counter_diff}')"
      ],
      "execution_count": null,
      "outputs": [
        {
          "output_type": "stream",
          "text": [
            "white, threshold 5, count difference between classes 4532\n",
            "white, threshold 6, count difference between classes 1618\n",
            "white, threshold 7, count difference between classes 2778\n",
            "red, threshold 5, count difference between classes 1473\n",
            "red, threshold 6, count difference between classes 111\n",
            "red, threshold 7, count difference between classes 1165\n"
          ],
          "name": "stdout"
        }
      ]
    },
    {
      "cell_type": "markdown",
      "metadata": {
        "id": "zWv0w6o1-EOw"
      },
      "source": [
        "This indicates that the most suitable threshold is 6."
      ]
    },
    {
      "cell_type": "code",
      "metadata": {
        "id": "AlKMlvlJ-Bsn"
      },
      "source": [
        "white_df[classif_pred_feat] = discretize_binary(white_df[regr_pred_feat], 6)\n",
        "red_df[classif_pred_feat] = discretize_binary(red_df[regr_pred_feat], 6)"
      ],
      "execution_count": null,
      "outputs": []
    },
    {
      "cell_type": "markdown",
      "metadata": {
        "id": "uE_oVzjoqOLs"
      },
      "source": [
        "Plotting the quality distribution based on sweetness:"
      ]
    },
    {
      "cell_type": "code",
      "metadata": {
        "colab": {
          "base_uri": "https://localhost:8080/",
          "height": 425
        },
        "id": "EeuAUArQcirP",
        "outputId": "0d2257cc-bc20-4439-99f3-8b760bd3571f"
      },
      "source": [
        "for wine_df, wine_name in zip([white_df, red_df], ['white', 'red']):\n",
        "  g = sns.FacetGrid(wine_df, col=\"is_sweet\", col_order=['no', 'yes'])\n",
        "  g.map(sns.countplot, 'quality', order=sorted(wine_df['quality'].unique()))\n",
        "  g.set_ylabels(wine_name)"
      ],
      "execution_count": null,
      "outputs": [
        {
          "output_type": "display_data",
          "data": {
            "image/png": "[encoded data removed]",
            "text/plain": [
              "<Figure size 432x216 with 2 Axes>"
            ]
          },
          "metadata": {
            "tags": []
          }
        },
        {
          "output_type": "display_data",
          "data": {
            "image/png": "[encoded data removed]",
            "text/plain": [
              "<Figure size 432x216 with 2 Axes>"
            ]
          },
          "metadata": {
            "tags": []
          }
        }
      ]
    },
    {
      "cell_type": "markdown",
      "metadata": {
        "id": "sk27x5RcTJHW"
      },
      "source": [
        "Seems that sweet white wine is perceived lower quality than dry wine. On the other hand, red wine sweetness has little to no correlation with the quality."
      ]
    },
    {
      "cell_type": "markdown",
      "metadata": {
        "id": "piZ4E7vSbfMT"
      },
      "source": [
        "Now, let's look at the quality with respect to both alcohol content category and sweetness category."
      ]
    },
    {
      "cell_type": "code",
      "metadata": {
        "colab": {
          "base_uri": "https://localhost:8080/",
          "height": 747
        },
        "id": "ORI95IF3fgqx",
        "outputId": "ec7c70f5-7e64-4e3f-c32b-5087017edf64"
      },
      "source": [
        "for wine_df, wine_name in zip([white_df, red_df], ['white quality', 'red quality']):\n",
        "    g = sns.catplot(x='alcohol_cat', y='quality', data=wine_df, kind='violin', hue='is_sweet',\n",
        "                    order=['low', 'mid', 'high'], hue_order=['no', 'yes'])\n",
        "    g.set_ylabels(wine_name)"
      ],
      "execution_count": null,
      "outputs": [
        {
          "output_type": "display_data",
          "data": {
            "image/png": "[encoded data removed]",
            "text/plain": [
              "<Figure size 420.3x360 with 1 Axes>"
            ]
          },
          "metadata": {
            "tags": []
          }
        },
        {
          "output_type": "display_data",
          "data": {
            "image/png": "[encoded data removed]",
            "text/plain": [
              "<Figure size 420.3x360 with 1 Axes>"
            ]
          },
          "metadata": {
            "tags": []
          }
        }
      ]
    },
    {
      "cell_type": "markdown",
      "metadata": {
        "id": "Ovon67IfmHwW"
      },
      "source": [
        "We can also try to look at quality distribution based on alcohol and sweetness on the combined white and red wine dataframe."
      ]
    },
    {
      "cell_type": "code",
      "metadata": {
        "colab": {
          "base_uri": "https://localhost:8080/",
          "height": 382
        },
        "id": "jD4Uq1IIluAc",
        "outputId": "23d72d29-eb3d-4321-fd92-f1dae71f044f"
      },
      "source": [
        "combined_df = pd.concat([white_df, red_df], ignore_index=True)\n",
        "\n",
        "g = sns.catplot(x='alcohol_cat', y='quality', data=combined_df, kind='violin', hue='is_sweet',\n",
        "                    order=['low', 'mid', 'high'], hue_order=['no', 'yes'])"
      ],
      "execution_count": null,
      "outputs": [
        {
          "output_type": "display_data",
          "data": {
            "image/png": "[encoded data removed]",
            "text/plain": [
              "<Figure size 420.3x360 with 1 Axes>"
            ]
          },
          "metadata": {
            "tags": []
          }
        }
      ]
    },
    {
      "cell_type": "markdown",
      "metadata": {
        "id": "9SKSMCvUEbD1"
      },
      "source": [
        "Combined dataframe shows the same trends. It is clearly visible in both illustrations that higher alcohol content indices higher quality, although no significant differences are seen between sweet and non sweet wines."
      ]
    },
    {
      "cell_type": "markdown",
      "metadata": {
        "id": "offcPhew3kFV"
      },
      "source": [
        "# White Wine"
      ]
    },
    {
      "cell_type": "markdown",
      "metadata": {
        "id": "yOPu0LON3csx"
      },
      "source": [
        "## Extended Analysis"
      ]
    },
    {
      "cell_type": "markdown",
      "metadata": {
        "id": "a1x24Q5zDPqw"
      },
      "source": [
        "Lets check the distribution of each variable's values across the dataset."
      ]
    },
    {
      "cell_type": "code",
      "metadata": {
        "colab": {
          "base_uri": "https://localhost:8080/",
          "height": 1000
        },
        "id": "tL66IJGgLoW9",
        "outputId": "a0d2b6c2-d15f-4156-954f-e4267737494a"
      },
      "source": [
        "for column in white_df.columns:\n",
        "    g = sns.FacetGrid(white_df)\n",
        "    g.map(sns.histplot, column)"
      ],
      "execution_count": null,
      "outputs": [
        {
          "output_type": "display_data",
          "data": {
            "image/png": "[encoded data removed]",
            "text/plain": [
              "<Figure size 216x216 with 1 Axes>"
            ]
          },
          "metadata": {
            "tags": []
          }
        },
        {
          "output_type": "display_data",
          "data": {
            "image/png": "[encoded data removed]",
            "text/plain": [
              "<Figure size 216x216 with 1 Axes>"
            ]
          },
          "metadata": {
            "tags": []
          }
        },
        {
          "output_type": "display_data",
          "data": {
            "image/png": "[encoded data removed]",
            "text/plain": [
              "<Figure size 216x216 with 1 Axes>"
            ]
          },
          "metadata": {
            "tags": []
          }
        },
        {
          "output_type": "display_data",
          "data": {
            "image/png": "[encoded data removed]",
            "text/plain": [
              "<Figure size 216x216 with 1 Axes>"
            ]
          },
          "metadata": {
            "tags": []
          }
        },
        {
          "output_type": "display_data",
          "data": {
            "image/png": "[encoded data removed]",
            "text/plain": [
              "<Figure size 216x216 with 1 Axes>"
            ]
          },
          "metadata": {
            "tags": []
          }
        },
        {
          "output_type": "display_data",
          "data": {
            "image/png": "[encoded data removed]",
            "text/plain": [
              "<Figure size 216x216 with 1 Axes>"
            ]
          },
          "metadata": {
            "tags": []
          }
        },
        {
          "output_type": "display_data",
          "data": {
            "image/png": "[encoded data removed]",
            "text/plain": [
              "<Figure size 216x216 with 1 Axes>"
            ]
          },
          "metadata": {
            "tags": []
          }
        },
        {
          "output_type": "display_data",
          "data": {
            "image/png": "[encoded data removed]",
            "text/plain": [
              "<Figure size 216x216 with 1 Axes>"
            ]
          },
          "metadata": {
            "tags": []
          }
        },
        {
          "output_type": "display_data",
          "data": {
            "image/png": "[encoded data removed]",
            "text/plain": [
              "<Figure size 216x216 with 1 Axes>"
            ]
          },
          "metadata": {
            "tags": []
          }
        },
        {
          "output_type": "display_data",
          "data": {
            "image/png": "[encoded data removed]",
            "text/plain": [
              "<Figure size 216x216 with 1 Axes>"
            ]
          },
          "metadata": {
            "tags": []
          }
        },
        {
          "output_type": "display_data",
          "data": {
            "image/png": "[encoded data removed]",
            "text/plain": [
              "<Figure size 216x216 with 1 Axes>"
            ]
          },
          "metadata": {
            "tags": []
          }
        },
        {
          "output_type": "display_data",
          "data": {
            "image/png": "[encoded data removed]",
            "text/plain": [
              "<Figure size 216x216 with 1 Axes>"
            ]
          },
          "metadata": {
            "tags": []
          }
        },
        {
          "output_type": "display_data",
          "data": {
            "image/png": "[encoded data removed]",
            "text/plain": [
              "<Figure size 216x216 with 1 Axes>"
            ]
          },
          "metadata": {
            "tags": []
          }
        },
        {
          "output_type": "display_data",
          "data": {
            "image/png": "[encoded data removed]",
            "text/plain": [
              "<Figure size 216x216 with 1 Axes>"
            ]
          },
          "metadata": {
            "tags": []
          }
        },
        {
          "output_type": "display_data",
          "data": {
            "image/png": "[encoded data removed]",
            "text/plain": [
              "<Figure size 216x216 with 1 Axes>"
            ]
          },
          "metadata": {
            "tags": []
          }
        }
      ]
    },
    {
      "cell_type": "markdown",
      "metadata": {
        "id": "UMVNDYpxDsS7"
      },
      "source": [
        "All the variables except **residual sugar** are more or less normally distributed. Our output variable **quality** also looks normally distributed, but it consists only of integers and quality of 7 is considered better than quality of 6, therefore it can also be perceived as rank. "
      ]
    },
    {
      "cell_type": "markdown",
      "metadata": {
        "id": "VNMPYk-qGMGp"
      },
      "source": [
        "The reason I am mentioning this, is that the way we look at our output will define which measures we will use to compare their correlation."
      ]
    },
    {
      "cell_type": "markdown",
      "metadata": {
        "id": "M8ru7Kuy53Gh"
      },
      "source": [
        "Let's treat quality both as a rank and as a continuous value. Therefore we will use both Spearman's rank and Pearson correlation coefficients to find out how quality correlates with each feature."
      ]
    },
    {
      "cell_type": "code",
      "metadata": {
        "id": "tSqfI8iP3357",
        "colab": {
          "base_uri": "https://localhost:8080/"
        },
        "outputId": "33543d02-3697-4270-83ce-e20561b6a267"
      },
      "source": [
        "white_df.corr(method='spearman').quality"
      ],
      "execution_count": null,
      "outputs": [
        {
          "output_type": "execute_result",
          "data": {
            "text/plain": [
              "fixed acidity          -0.084485\n",
              "volatile acidity       -0.196562\n",
              "citric acid             0.018333\n",
              "residual sugar         -0.082070\n",
              "chlorides              -0.314488\n",
              "free sulfur dioxide     0.023713\n",
              "total sulfur dioxide   -0.196680\n",
              "density                -0.348351\n",
              "pH                      0.109362\n",
              "sulphates               0.033319\n",
              "alcohol                 0.440369\n",
              "quality                 1.000000\n",
              "Name: quality, dtype: float64"
            ]
          },
          "metadata": {
            "tags": []
          },
          "execution_count": 20
        }
      ]
    },
    {
      "cell_type": "markdown",
      "metadata": {
        "id": "dEe9iI2TGIlB"
      },
      "source": [
        "Note that Pearson correlation coefficient is the default one for `corr()` function."
      ]
    },
    {
      "cell_type": "code",
      "metadata": {
        "colab": {
          "base_uri": "https://localhost:8080/"
        },
        "id": "OHXWxiMf26le",
        "outputId": "80cffa65-4816-43e6-edb5-26dd166db415"
      },
      "source": [
        "white_df.corr().quality"
      ],
      "execution_count": null,
      "outputs": [
        {
          "output_type": "execute_result",
          "data": {
            "text/plain": [
              "fixed acidity          -0.113663\n",
              "volatile acidity       -0.194723\n",
              "citric acid            -0.009209\n",
              "residual sugar         -0.097577\n",
              "chlorides              -0.209934\n",
              "free sulfur dioxide     0.008158\n",
              "total sulfur dioxide   -0.174737\n",
              "density                -0.307123\n",
              "pH                      0.099427\n",
              "sulphates               0.053678\n",
              "alcohol                 0.435575\n",
              "quality                 1.000000\n",
              "Name: quality, dtype: float64"
            ]
          },
          "metadata": {
            "tags": []
          },
          "execution_count": 21
        }
      ]
    },
    {
      "cell_type": "code",
      "metadata": {
        "colab": {
          "base_uri": "https://localhost:8080/"
        },
        "id": "Z36W53pJ-Rzt",
        "outputId": "2335b9ad-89df-4f4a-ef32-127d43906c0e"
      },
      "source": [
        "white_df.corr(method='kendall').quality"
      ],
      "execution_count": null,
      "outputs": [
        {
          "output_type": "execute_result",
          "data": {
            "text/plain": [
              "fixed acidity          -0.065474\n",
              "volatile acidity       -0.154787\n",
              "citric acid             0.014557\n",
              "residual sugar         -0.063087\n",
              "chlorides              -0.244856\n",
              "free sulfur dioxide     0.017164\n",
              "total sulfur dioxide   -0.151230\n",
              "density                -0.266598\n",
              "pH                      0.084441\n",
              "sulphates               0.026403\n",
              "alcohol                 0.346672\n",
              "quality                 1.000000\n",
              "Name: quality, dtype: float64"
            ]
          },
          "metadata": {
            "tags": []
          },
          "execution_count": 23
        }
      ]
    },
    {
      "cell_type": "markdown",
      "metadata": {
        "id": "vlAR5naiKKnw"
      },
      "source": [
        "We can see that white wine quality has the highest positive correlation with alcohol content, which confirms our previuosly drawn assumptions, and the highest negative correlation with density."
      ]
    },
    {
      "cell_type": "markdown",
      "metadata": {
        "id": "nSLkcBeHcBaH"
      },
      "source": [
        "Machine learning model that uses two variables that are highly correlated with each other is redundant, therefore we can visualize and analyze correlations between each pair of variables to find useful information. We will now use Pearson correlation coefficient method, which is the default one for `.corr()` function, to measure linear correlation between our features."
      ]
    },
    {
      "cell_type": "code",
      "metadata": {
        "colab": {
          "base_uri": "https://localhost:8080/",
          "height": 394
        },
        "id": "92A8LrMhKx36",
        "outputId": "ac1f192e-586d-457e-ac50-e85830db7732"
      },
      "source": [
        "white_corr_mat = white_df.corr()\n",
        "\n",
        "# visualize using heatmap\n",
        "sns.heatmap(white_corr_mat, vmin=-1, vmax=1, center=0, linewidths=0.2, cmap='coolwarm').set_title(\"White Wine\")"
      ],
      "execution_count": null,
      "outputs": [
        {
          "output_type": "execute_result",
          "data": {
            "text/plain": [
              "Text(0.5, 1.0, 'White Wine')"
            ]
          },
          "metadata": {
            "tags": []
          },
          "execution_count": 25
        },
        {
          "output_type": "display_data",
          "data": {
            "image/png": "[encoded data removed]",
            "text/plain": [
              "<Figure size 432x288 with 2 Axes>"
            ]
          },
          "metadata": {
            "tags": []
          }
        }
      ]
    },
    {
      "cell_type": "markdown",
      "metadata": {
        "id": "7TygSQxTIBbn"
      },
      "source": [
        "Heatmap indicates that density has a very high positive correlation with residual sugar and a very high negative correlation with alcohol content. Besides that, we can also see quite high correlation between free sulfur dioxide and total sulfur dioxide. Let's look at the numbers."
      ]
    },
    {
      "cell_type": "code",
      "metadata": {
        "colab": {
          "base_uri": "https://localhost:8080/",
          "height": 520
        },
        "id": "hZ6GQtDA46LN",
        "outputId": "16c3cd88-9dcb-4375-932c-292e4f89cf38"
      },
      "source": [
        "white_corr_mat"
      ],
      "execution_count": null,
      "outputs": [
        {
          "output_type": "execute_result",
          "data": {
            "text/html": [
              "<div>\n",
              "<style scoped>\n",
              "    .dataframe tbody tr th:only-of-type {\n",
              "        vertical-align: middle;\n",
              "    }\n",
              "\n",
              "    .dataframe tbody tr th {\n",
              "        vertical-align: top;\n",
              "    }\n",
              "\n",
              "    .dataframe thead th {\n",
              "        text-align: right;\n",
              "    }\n",
              "</style>\n",
              "<table border=\"1\" class=\"dataframe\">\n",
              "  <thead>\n",
              "    <tr style=\"text-align: right;\">\n",
              "      <th></th>\n",
              "      <th>fixed acidity</th>\n",
              "      <th>volatile acidity</th>\n",
              "      <th>citric acid</th>\n",
              "      <th>residual sugar</th>\n",
              "      <th>chlorides</th>\n",
              "      <th>free sulfur dioxide</th>\n",
              "      <th>total sulfur dioxide</th>\n",
              "      <th>density</th>\n",
              "      <th>pH</th>\n",
              "      <th>sulphates</th>\n",
              "      <th>alcohol</th>\n",
              "      <th>quality</th>\n",
              "    </tr>\n",
              "  </thead>\n",
              "  <tbody>\n",
              "    <tr>\n",
              "      <th>fixed acidity</th>\n",
              "      <td>1.000000</td>\n",
              "      <td>-0.022697</td>\n",
              "      <td>0.289181</td>\n",
              "      <td>0.089021</td>\n",
              "      <td>0.023086</td>\n",
              "      <td>-0.049396</td>\n",
              "      <td>0.091070</td>\n",
              "      <td>0.265331</td>\n",
              "      <td>-0.425858</td>\n",
              "      <td>-0.017143</td>\n",
              "      <td>-0.120881</td>\n",
              "      <td>-0.113663</td>\n",
              "    </tr>\n",
              "    <tr>\n",
              "      <th>volatile acidity</th>\n",
              "      <td>-0.022697</td>\n",
              "      <td>1.000000</td>\n",
              "      <td>-0.149472</td>\n",
              "      <td>0.064286</td>\n",
              "      <td>0.070512</td>\n",
              "      <td>-0.097012</td>\n",
              "      <td>0.089261</td>\n",
              "      <td>0.027114</td>\n",
              "      <td>-0.031915</td>\n",
              "      <td>-0.035728</td>\n",
              "      <td>0.067718</td>\n",
              "      <td>-0.194723</td>\n",
              "    </tr>\n",
              "    <tr>\n",
              "      <th>citric acid</th>\n",
              "      <td>0.289181</td>\n",
              "      <td>-0.149472</td>\n",
              "      <td>1.000000</td>\n",
              "      <td>0.094212</td>\n",
              "      <td>0.114364</td>\n",
              "      <td>0.094077</td>\n",
              "      <td>0.121131</td>\n",
              "      <td>0.149503</td>\n",
              "      <td>-0.163748</td>\n",
              "      <td>0.062331</td>\n",
              "      <td>-0.075729</td>\n",
              "      <td>-0.009209</td>\n",
              "    </tr>\n",
              "    <tr>\n",
              "      <th>residual sugar</th>\n",
              "      <td>0.089021</td>\n",
              "      <td>0.064286</td>\n",
              "      <td>0.094212</td>\n",
              "      <td>1.000000</td>\n",
              "      <td>0.088685</td>\n",
              "      <td>0.299098</td>\n",
              "      <td>0.401439</td>\n",
              "      <td>0.838966</td>\n",
              "      <td>-0.194133</td>\n",
              "      <td>-0.026664</td>\n",
              "      <td>-0.450631</td>\n",
              "      <td>-0.097577</td>\n",
              "    </tr>\n",
              "    <tr>\n",
              "      <th>chlorides</th>\n",
              "      <td>0.023086</td>\n",
              "      <td>0.070512</td>\n",
              "      <td>0.114364</td>\n",
              "      <td>0.088685</td>\n",
              "      <td>1.000000</td>\n",
              "      <td>0.101392</td>\n",
              "      <td>0.198910</td>\n",
              "      <td>0.257211</td>\n",
              "      <td>-0.090439</td>\n",
              "      <td>0.016763</td>\n",
              "      <td>-0.360189</td>\n",
              "      <td>-0.209934</td>\n",
              "    </tr>\n",
              "    <tr>\n",
              "      <th>free sulfur dioxide</th>\n",
              "      <td>-0.049396</td>\n",
              "      <td>-0.097012</td>\n",
              "      <td>0.094077</td>\n",
              "      <td>0.299098</td>\n",
              "      <td>0.101392</td>\n",
              "      <td>1.000000</td>\n",
              "      <td>0.615501</td>\n",
              "      <td>0.294210</td>\n",
              "      <td>-0.000618</td>\n",
              "      <td>0.059217</td>\n",
              "      <td>-0.250104</td>\n",
              "      <td>0.008158</td>\n",
              "    </tr>\n",
              "    <tr>\n",
              "      <th>total sulfur dioxide</th>\n",
              "      <td>0.091070</td>\n",
              "      <td>0.089261</td>\n",
              "      <td>0.121131</td>\n",
              "      <td>0.401439</td>\n",
              "      <td>0.198910</td>\n",
              "      <td>0.615501</td>\n",
              "      <td>1.000000</td>\n",
              "      <td>0.529881</td>\n",
              "      <td>0.002321</td>\n",
              "      <td>0.134562</td>\n",
              "      <td>-0.448892</td>\n",
              "      <td>-0.174737</td>\n",
              "    </tr>\n",
              "    <tr>\n",
              "      <th>density</th>\n",
              "      <td>0.265331</td>\n",
              "      <td>0.027114</td>\n",
              "      <td>0.149503</td>\n",
              "      <td>0.838966</td>\n",
              "      <td>0.257211</td>\n",
              "      <td>0.294210</td>\n",
              "      <td>0.529881</td>\n",
              "      <td>1.000000</td>\n",
              "      <td>-0.093591</td>\n",
              "      <td>0.074493</td>\n",
              "      <td>-0.780138</td>\n",
              "      <td>-0.307123</td>\n",
              "    </tr>\n",
              "    <tr>\n",
              "      <th>pH</th>\n",
              "      <td>-0.425858</td>\n",
              "      <td>-0.031915</td>\n",
              "      <td>-0.163748</td>\n",
              "      <td>-0.194133</td>\n",
              "      <td>-0.090439</td>\n",
              "      <td>-0.000618</td>\n",
              "      <td>0.002321</td>\n",
              "      <td>-0.093591</td>\n",
              "      <td>1.000000</td>\n",
              "      <td>0.155951</td>\n",
              "      <td>0.121432</td>\n",
              "      <td>0.099427</td>\n",
              "    </tr>\n",
              "    <tr>\n",
              "      <th>sulphates</th>\n",
              "      <td>-0.017143</td>\n",
              "      <td>-0.035728</td>\n",
              "      <td>0.062331</td>\n",
              "      <td>-0.026664</td>\n",
              "      <td>0.016763</td>\n",
              "      <td>0.059217</td>\n",
              "      <td>0.134562</td>\n",
              "      <td>0.074493</td>\n",
              "      <td>0.155951</td>\n",
              "      <td>1.000000</td>\n",
              "      <td>-0.017433</td>\n",
              "      <td>0.053678</td>\n",
              "    </tr>\n",
              "    <tr>\n",
              "      <th>alcohol</th>\n",
              "      <td>-0.120881</td>\n",
              "      <td>0.067718</td>\n",
              "      <td>-0.075729</td>\n",
              "      <td>-0.450631</td>\n",
              "      <td>-0.360189</td>\n",
              "      <td>-0.250104</td>\n",
              "      <td>-0.448892</td>\n",
              "      <td>-0.780138</td>\n",
              "      <td>0.121432</td>\n",
              "      <td>-0.017433</td>\n",
              "      <td>1.000000</td>\n",
              "      <td>0.435575</td>\n",
              "    </tr>\n",
              "    <tr>\n",
              "      <th>quality</th>\n",
              "      <td>-0.113663</td>\n",
              "      <td>-0.194723</td>\n",
              "      <td>-0.009209</td>\n",
              "      <td>-0.097577</td>\n",
              "      <td>-0.209934</td>\n",
              "      <td>0.008158</td>\n",
              "      <td>-0.174737</td>\n",
              "      <td>-0.307123</td>\n",
              "      <td>0.099427</td>\n",
              "      <td>0.053678</td>\n",
              "      <td>0.435575</td>\n",
              "      <td>1.000000</td>\n",
              "    </tr>\n",
              "  </tbody>\n",
              "</table>\n",
              "</div>"
            ],
            "text/plain": [
              "                      fixed acidity  volatile acidity  ...   alcohol   quality\n",
              "fixed acidity              1.000000         -0.022697  ... -0.120881 -0.113663\n",
              "volatile acidity          -0.022697          1.000000  ...  0.067718 -0.194723\n",
              "citric acid                0.289181         -0.149472  ... -0.075729 -0.009209\n",
              "residual sugar             0.089021          0.064286  ... -0.450631 -0.097577\n",
              "chlorides                  0.023086          0.070512  ... -0.360189 -0.209934\n",
              "free sulfur dioxide       -0.049396         -0.097012  ... -0.250104  0.008158\n",
              "total sulfur dioxide       0.091070          0.089261  ... -0.448892 -0.174737\n",
              "density                    0.265331          0.027114  ... -0.780138 -0.307123\n",
              "pH                        -0.425858         -0.031915  ...  0.121432  0.099427\n",
              "sulphates                 -0.017143         -0.035728  ... -0.017433  0.053678\n",
              "alcohol                   -0.120881          0.067718  ...  1.000000  0.435575\n",
              "quality                   -0.113663         -0.194723  ...  0.435575  1.000000\n",
              "\n",
              "[12 rows x 12 columns]"
            ]
          },
          "metadata": {
            "tags": []
          },
          "execution_count": 26
        }
      ]
    },
    {
      "cell_type": "markdown",
      "metadata": {
        "id": "Yf6UH0_JDNeV"
      },
      "source": [
        "Some correlations that we are currently interested in:\n",
        "\n",
        "\n",
        "*   density and alcohol ~ `-0.78`\n",
        "*   density and residual sugar ~ `0.84`\n",
        "*   free sulfur dioxide and total sulfur dioxide ~ `0.62`\n",
        "\n",
        "Let's see if we can find some logic here. Firstly, we can take a second look at density's statistics summary.\n"
      ]
    },
    {
      "cell_type": "code",
      "metadata": {
        "colab": {
          "base_uri": "https://localhost:8080/"
        },
        "id": "iyZEOfLcS6SI",
        "outputId": "6be2251f-0dc0-4420-9f40-244607570a3b"
      },
      "source": [
        "white_df['density'].describe()"
      ],
      "execution_count": null,
      "outputs": [
        {
          "output_type": "execute_result",
          "data": {
            "text/plain": [
              "count    4898.000000\n",
              "mean        0.994027\n",
              "std         0.002991\n",
              "min         0.987110\n",
              "25%         0.991723\n",
              "50%         0.993740\n",
              "75%         0.996100\n",
              "max         1.038980\n",
              "Name: density, dtype: float64"
            ]
          },
          "metadata": {
            "tags": []
          },
          "execution_count": 27
        }
      ]
    },
    {
      "cell_type": "markdown",
      "metadata": {
        "id": "I4IWWSLjZ6ad"
      },
      "source": [
        "Average white wine density is about 1 gram per cubic centimeter, similar to water. Alcohol and sugar densities are about 0.79 and 1.59 gram per cubic centimeter, respectively. As we put more alcohol into wine, its density decreases towards that 0.79 gram per cubic centimeter. The same logic applies to sugar. Now the high negative correlation between density and alcohol and high positive correlation between density and residual sugar make more sense. But is that a good thing or a bad thing?\n",
        "\n",
        "Given alcohol content and residual sugar we could approximate density by ourselves, which means that density basically gives us no new valuable information. Besides, density has a very low variance (i.e. standard deviation `0.002991` squared), which makes it even less useful.\n",
        "\n",
        "Now, let's look at sulfur dioxide. As far as I understand, total sulfur dioxide is free sulfur dioxide plus the sulfur dioxide that is bound to other chemicals in the wine. If all the values of free sulfur dioxide are less than total sulfur dioxide, it suggests that our assumption is probably correct."
      ]
    },
    {
      "cell_type": "code",
      "metadata": {
        "colab": {
          "base_uri": "https://localhost:8080/"
        },
        "id": "EDRkOfq-JgEN",
        "outputId": "ac3a3e63-505b-4106-c4da-ae2d86531972"
      },
      "source": [
        "(white_df['total sulfur dioxide'] - white_df['free sulfur dioxide']).min()"
      ],
      "execution_count": null,
      "outputs": [
        {
          "output_type": "execute_result",
          "data": {
            "text/plain": [
              "4.0"
            ]
          },
          "metadata": {
            "tags": []
          },
          "execution_count": 28
        }
      ]
    },
    {
      "cell_type": "markdown",
      "metadata": {
        "id": "RC8wq6ZIJvfU"
      },
      "source": [
        "As we can see the minimum value of total sulfur dioxide and free sulfur dioxide difference is still positive. The fact that one is probably just a portion of the other explains the high positive correlation. I do not know how either of those impact the quality of the wine, but the logic suggests using only one of those would remove some redundancy, although we will have to experiment with both."
      ]
    },
    {
      "cell_type": "markdown",
      "metadata": {
        "id": "b_uDjkjYOctj"
      },
      "source": [
        "Now, we have an idea of some useful and some not so useful features, but let's see if we can find some additional valuable information from statistics summary."
      ]
    },
    {
      "cell_type": "code",
      "metadata": {
        "colab": {
          "base_uri": "https://localhost:8080/",
          "height": 338
        },
        "id": "WQAzhzHqPlMI",
        "outputId": "2de00a82-d6c5-425a-df8e-c2bf4c4c7eb0"
      },
      "source": [
        "white_df.describe()"
      ],
      "execution_count": null,
      "outputs": [
        {
          "output_type": "execute_result",
          "data": {
            "text/html": [
              "<div>\n",
              "<style scoped>\n",
              "    .dataframe tbody tr th:only-of-type {\n",
              "        vertical-align: middle;\n",
              "    }\n",
              "\n",
              "    .dataframe tbody tr th {\n",
              "        vertical-align: top;\n",
              "    }\n",
              "\n",
              "    .dataframe thead th {\n",
              "        text-align: right;\n",
              "    }\n",
              "</style>\n",
              "<table border=\"1\" class=\"dataframe\">\n",
              "  <thead>\n",
              "    <tr style=\"text-align: right;\">\n",
              "      <th></th>\n",
              "      <th>fixed acidity</th>\n",
              "      <th>volatile acidity</th>\n",
              "      <th>citric acid</th>\n",
              "      <th>residual sugar</th>\n",
              "      <th>chlorides</th>\n",
              "      <th>free sulfur dioxide</th>\n",
              "      <th>total sulfur dioxide</th>\n",
              "      <th>density</th>\n",
              "      <th>pH</th>\n",
              "      <th>sulphates</th>\n",
              "      <th>alcohol</th>\n",
              "      <th>quality</th>\n",
              "    </tr>\n",
              "  </thead>\n",
              "  <tbody>\n",
              "    <tr>\n",
              "      <th>count</th>\n",
              "      <td>4898.000000</td>\n",
              "      <td>4898.000000</td>\n",
              "      <td>4898.000000</td>\n",
              "      <td>4898.000000</td>\n",
              "      <td>4898.000000</td>\n",
              "      <td>4898.000000</td>\n",
              "      <td>4898.000000</td>\n",
              "      <td>4898.000000</td>\n",
              "      <td>4898.000000</td>\n",
              "      <td>4898.000000</td>\n",
              "      <td>4898.000000</td>\n",
              "      <td>4898.000000</td>\n",
              "    </tr>\n",
              "    <tr>\n",
              "      <th>mean</th>\n",
              "      <td>6.854788</td>\n",
              "      <td>0.278241</td>\n",
              "      <td>0.334192</td>\n",
              "      <td>6.391415</td>\n",
              "      <td>0.045772</td>\n",
              "      <td>35.308085</td>\n",
              "      <td>138.360657</td>\n",
              "      <td>0.994027</td>\n",
              "      <td>3.188267</td>\n",
              "      <td>0.489847</td>\n",
              "      <td>10.514267</td>\n",
              "      <td>5.877909</td>\n",
              "    </tr>\n",
              "    <tr>\n",
              "      <th>std</th>\n",
              "      <td>0.843868</td>\n",
              "      <td>0.100795</td>\n",
              "      <td>0.121020</td>\n",
              "      <td>5.072058</td>\n",
              "      <td>0.021848</td>\n",
              "      <td>17.007137</td>\n",
              "      <td>42.498065</td>\n",
              "      <td>0.002991</td>\n",
              "      <td>0.151001</td>\n",
              "      <td>0.114126</td>\n",
              "      <td>1.230621</td>\n",
              "      <td>0.885639</td>\n",
              "    </tr>\n",
              "    <tr>\n",
              "      <th>min</th>\n",
              "      <td>3.800000</td>\n",
              "      <td>0.080000</td>\n",
              "      <td>0.000000</td>\n",
              "      <td>0.600000</td>\n",
              "      <td>0.009000</td>\n",
              "      <td>2.000000</td>\n",
              "      <td>9.000000</td>\n",
              "      <td>0.987110</td>\n",
              "      <td>2.720000</td>\n",
              "      <td>0.220000</td>\n",
              "      <td>8.000000</td>\n",
              "      <td>3.000000</td>\n",
              "    </tr>\n",
              "    <tr>\n",
              "      <th>25%</th>\n",
              "      <td>6.300000</td>\n",
              "      <td>0.210000</td>\n",
              "      <td>0.270000</td>\n",
              "      <td>1.700000</td>\n",
              "      <td>0.036000</td>\n",
              "      <td>23.000000</td>\n",
              "      <td>108.000000</td>\n",
              "      <td>0.991723</td>\n",
              "      <td>3.090000</td>\n",
              "      <td>0.410000</td>\n",
              "      <td>9.500000</td>\n",
              "      <td>5.000000</td>\n",
              "    </tr>\n",
              "    <tr>\n",
              "      <th>50%</th>\n",
              "      <td>6.800000</td>\n",
              "      <td>0.260000</td>\n",
              "      <td>0.320000</td>\n",
              "      <td>5.200000</td>\n",
              "      <td>0.043000</td>\n",
              "      <td>34.000000</td>\n",
              "      <td>134.000000</td>\n",
              "      <td>0.993740</td>\n",
              "      <td>3.180000</td>\n",
              "      <td>0.470000</td>\n",
              "      <td>10.400000</td>\n",
              "      <td>6.000000</td>\n",
              "    </tr>\n",
              "    <tr>\n",
              "      <th>75%</th>\n",
              "      <td>7.300000</td>\n",
              "      <td>0.320000</td>\n",
              "      <td>0.390000</td>\n",
              "      <td>9.900000</td>\n",
              "      <td>0.050000</td>\n",
              "      <td>46.000000</td>\n",
              "      <td>167.000000</td>\n",
              "      <td>0.996100</td>\n",
              "      <td>3.280000</td>\n",
              "      <td>0.550000</td>\n",
              "      <td>11.400000</td>\n",
              "      <td>6.000000</td>\n",
              "    </tr>\n",
              "    <tr>\n",
              "      <th>max</th>\n",
              "      <td>14.200000</td>\n",
              "      <td>1.100000</td>\n",
              "      <td>1.660000</td>\n",
              "      <td>65.800000</td>\n",
              "      <td>0.346000</td>\n",
              "      <td>289.000000</td>\n",
              "      <td>440.000000</td>\n",
              "      <td>1.038980</td>\n",
              "      <td>3.820000</td>\n",
              "      <td>1.080000</td>\n",
              "      <td>14.200000</td>\n",
              "      <td>9.000000</td>\n",
              "    </tr>\n",
              "  </tbody>\n",
              "</table>\n",
              "</div>"
            ],
            "text/plain": [
              "       fixed acidity  volatile acidity  ...      alcohol      quality\n",
              "count    4898.000000       4898.000000  ...  4898.000000  4898.000000\n",
              "mean        6.854788          0.278241  ...    10.514267     5.877909\n",
              "std         0.843868          0.100795  ...     1.230621     0.885639\n",
              "min         3.800000          0.080000  ...     8.000000     3.000000\n",
              "25%         6.300000          0.210000  ...     9.500000     5.000000\n",
              "50%         6.800000          0.260000  ...    10.400000     6.000000\n",
              "75%         7.300000          0.320000  ...    11.400000     6.000000\n",
              "max        14.200000          1.100000  ...    14.200000     9.000000\n",
              "\n",
              "[8 rows x 12 columns]"
            ]
          },
          "metadata": {
            "tags": []
          },
          "execution_count": 29
        }
      ]
    },
    {
      "cell_type": "markdown",
      "metadata": {
        "id": "GbMG-chDPpm1"
      },
      "source": [
        "pH proportionally to its values has quite low variance, which indicates that pH might not be useful for predicting quality. However, some internet sources suggest that wine pH is typically between 3 and 4, which is almost the same as in our datasets, thus we cannot cross out pH yet."
      ]
    },
    {
      "cell_type": "markdown",
      "metadata": {
        "id": "poE-Tm0lRlBO"
      },
      "source": [
        "Another thing we could try to find relationship between quality and all the features is Mutual Information. It is a measurement which tells how knowledge of one quantity reduces the uncertainty of our target variable. Mutual information can detect any kind of relationship, not like correlation (e.g. Pearson's correlation coefficient), which only measures linear relationship. This will be helpful as it is suited for categorical variables as well. We will use two functions (Originally created by Ryan Holbrook, Kaggle Feature Engineering Course) that we will modify for both regression and classification. We will be able to use these function for red wine as well."
      ]
    },
    {
      "cell_type": "code",
      "metadata": {
        "id": "kA0mRE-aQAns"
      },
      "source": [
        "def regr_mi_scores(X, y, discrete_features):\n",
        "  mi_scores = mutual_info_regression(X, y, discrete_features=discrete_features)\n",
        "  mi_scores = pd.Series(mi_scores, index=X.columns)\n",
        "  mi_scores = mi_scores.sort_values(ascending=False)\n",
        "  return mi_scores\n",
        "\n",
        "def classif_mi_scores(X, y, discrete_features):\n",
        "  mi_scores = mutual_info_regression(X, y, discrete_features=discrete_features)\n",
        "  mi_scores = pd.Series(mi_scores, index=X.columns)\n",
        "  mi_scores = mi_scores.sort_values(ascending=False)\n",
        "  return mi_scores"
      ],
      "execution_count": null,
      "outputs": []
    },
    {
      "cell_type": "markdown",
      "metadata": {
        "id": "fT_PJNWgaREU"
      },
      "source": [
        "First, we will factorize data (i.e. convert categorical data strings to integers). Factorization is also required for machine learning. First, we will store alcohol_cat column into pandas Categorical object so that it preserves the order of low < mid < high when factorized. "
      ]
    },
    {
      "cell_type": "code",
      "metadata": {
        "id": "q0JJx3YNQ5UF"
      },
      "source": [
        "white_df['alcohol_cat'] = pd.Categorical(white_df['alcohol_cat'], categories=['low', 'mid', 'high'], \n",
        "                                       ordered=True)\n",
        "white_df['alcohol_cat'], _ = pd.factorize(white_df['alcohol_cat'], sort=True)\n",
        "\n",
        "# remaining columns\n",
        "for column in white_df.select_dtypes('object'):\n",
        "  white_df[column], _ = pd.factorize(white_df[column])\n",
        "\n",
        "X_mi = white_df.loc[:, numerical + categorical]\n",
        "y_mi_regr = white_df[regr_pred_feat]\n",
        "y_mi_classif = white_df[classif_pred_feat]\n",
        "\n",
        "discrete_features = white_df.dtypes == int\n",
        "discrete_features = discrete_features.drop([regr_pred_feat, classif_pred_feat])"
      ],
      "execution_count": null,
      "outputs": []
    },
    {
      "cell_type": "code",
      "metadata": {
        "colab": {
          "base_uri": "https://localhost:8080/"
        },
        "id": "JVqWUe6VUvN9",
        "outputId": "a534de14-7a41-4aea-b566-3c16fda680df"
      },
      "source": [
        "regr_mi_scores(X_mi, y_mi_regr, discrete_features)"
      ],
      "execution_count": null,
      "outputs": [
        {
          "output_type": "execute_result",
          "data": {
            "text/plain": [
              "density                 0.186310\n",
              "alcohol                 0.161468\n",
              "residual sugar          0.094192\n",
              "total sulfur dioxide    0.087346\n",
              "alcohol_cat             0.083013\n",
              "chlorides               0.082981\n",
              "free sulfur dioxide     0.062877\n",
              "volatile acidity        0.059775\n",
              "citric acid             0.048932\n",
              "sulphates               0.036682\n",
              "is_sweet                0.022540\n",
              "pH                      0.019332\n",
              "fixed acidity           0.016147\n",
              "dtype: float64"
            ]
          },
          "metadata": {
            "tags": []
          },
          "execution_count": 32
        }
      ]
    },
    {
      "cell_type": "code",
      "metadata": {
        "colab": {
          "base_uri": "https://localhost:8080/"
        },
        "id": "4qp3o1yAWxUb",
        "outputId": "c07afd2e-b62d-48c4-d87e-fd66851c6b9b"
      },
      "source": [
        "classif_mi_scores(X_mi, y_mi_classif, discrete_features)"
      ],
      "execution_count": null,
      "outputs": [
        {
          "output_type": "execute_result",
          "data": {
            "text/plain": [
              "alcohol                 0.098694\n",
              "density                 0.086476\n",
              "alcohol_cat             0.069980\n",
              "chlorides               0.045672\n",
              "total sulfur dioxide    0.039600\n",
              "volatile acidity        0.035892\n",
              "citric acid             0.035845\n",
              "residual sugar          0.032206\n",
              "free sulfur dioxide     0.031895\n",
              "sulphates               0.013593\n",
              "fixed acidity           0.013118\n",
              "pH                      0.011014\n",
              "is_sweet                0.000000\n",
              "dtype: float64"
            ]
          },
          "metadata": {
            "tags": []
          },
          "execution_count": 33
        }
      ]
    },
    {
      "cell_type": "markdown",
      "metadata": {
        "id": "Rxk8U5_k6nkQ"
      },
      "source": [
        "## Machine Learning Preparation"
      ]
    },
    {
      "cell_type": "markdown",
      "metadata": {
        "id": "_Dx-tZWR7u_g"
      },
      "source": [
        "Let's think about what we've learned throughout analysis and pick features that might be the most suitable for our model. First, we can look at all the features we have."
      ]
    },
    {
      "cell_type": "code",
      "metadata": {
        "colab": {
          "base_uri": "https://localhost:8080/"
        },
        "id": "CvAd6thG7wtJ",
        "outputId": "2c8bd026-2bd9-47d7-80a8-3578f6864550"
      },
      "source": [
        "features = numerical + categorical\n",
        "features"
      ],
      "execution_count": null,
      "outputs": [
        {
          "output_type": "execute_result",
          "data": {
            "text/plain": [
              "['fixed acidity',\n",
              " 'volatile acidity',\n",
              " 'citric acid',\n",
              " 'residual sugar',\n",
              " 'chlorides',\n",
              " 'free sulfur dioxide',\n",
              " 'total sulfur dioxide',\n",
              " 'density',\n",
              " 'pH',\n",
              " 'sulphates',\n",
              " 'alcohol',\n",
              " 'alcohol_cat',\n",
              " 'is_sweet']"
            ]
          },
          "metadata": {
            "tags": []
          },
          "execution_count": 34
        }
      ]
    },
    {
      "cell_type": "markdown",
      "metadata": {
        "id": "dgaVxiK7724i"
      },
      "source": [
        "We've found out that density is redundant for our model, thus we will remove it. Then we'll have to look at the analysis again and remove some features and try to find out which ones works best."
      ]
    },
    {
      "cell_type": "code",
      "metadata": {
        "id": "xNa6jo5a7yxc"
      },
      "source": [
        "to_remove = ['alcohol_cat', 'is_sweet', 'density', 'sulphates', 'chlorides', 'residual sugar', 'citric acid']\n",
        "for feature in to_remove:\n",
        "  features.remove(feature)"
      ],
      "execution_count": null,
      "outputs": []
    },
    {
      "cell_type": "code",
      "metadata": {
        "id": "bea_4XZBbe-0"
      },
      "source": [
        "X = white_df[features]"
      ],
      "execution_count": null,
      "outputs": []
    },
    {
      "cell_type": "markdown",
      "metadata": {
        "id": "F1RrOtHtykH8"
      },
      "source": [
        "## Machine Learning - Regression"
      ]
    },
    {
      "cell_type": "markdown",
      "metadata": {
        "id": "ez6STpwwU52B"
      },
      "source": [
        "Let's store quality to y for regression."
      ]
    },
    {
      "cell_type": "code",
      "metadata": {
        "id": "6lvsY4QkVAyl"
      },
      "source": [
        "y = white_df[regr_pred_feat]\n",
        "\n",
        "X_train, X_test, y_train, y_test = train_test_split(X, y, test_size=0.2, random_state=seed)"
      ],
      "execution_count": null,
      "outputs": []
    },
    {
      "cell_type": "markdown",
      "metadata": {
        "id": "6dUkRaCmhOFy"
      },
      "source": [
        "Normalize the data:"
      ]
    },
    {
      "cell_type": "code",
      "metadata": {
        "id": "XO3XnZYPr7Xc"
      },
      "source": [
        "# Train data\n",
        "mean = X_train.mean(axis=0)\n",
        "X_train -= mean\n",
        "std = X_train.std(axis=0)\n",
        "X_train /= std\n",
        "\n",
        "# Test data\n",
        "X_test -= mean\n",
        "X_test /= std"
      ],
      "execution_count": null,
      "outputs": []
    },
    {
      "cell_type": "markdown",
      "metadata": {
        "id": "WDiDonHj8XkD"
      },
      "source": [
        "Note that the quantities used for normalizing the test data are computed using the training data. We don't want to use in our workflow any quantity computed on the test data, even for something as simple as data normalization."
      ]
    },
    {
      "cell_type": "markdown",
      "metadata": {
        "id": "FHL9t5cIdk0a"
      },
      "source": [
        "### Linear Regression"
      ]
    },
    {
      "cell_type": "markdown",
      "metadata": {
        "id": "3gCXwtYh-G8O"
      },
      "source": [
        "Let's create a Linear Regression model, fit it to the train data and evaluate it on test data."
      ]
    },
    {
      "cell_type": "code",
      "metadata": {
        "id": "pgUnhXCdsn0J",
        "colab": {
          "base_uri": "https://localhost:8080/"
        },
        "outputId": "4b63f95b-be86-4520-f7bf-ca744f1e1c91"
      },
      "source": [
        "model = LinearRegression().fit(X_train, y_train)\n",
        "\n",
        "print(f'Cross validation score: {cross_val_score(model, X_train, y_train).mean()}')\n",
        "\n",
        "y_pred = model.predict(X_test)\n",
        "\n",
        "print(f'Mean absolute error: {mean_absolute_error(y_test, y_pred)}')"
      ],
      "execution_count": null,
      "outputs": [
        {
          "output_type": "stream",
          "text": [
            "Cross validation score: 0.2477256311555672\n",
            "Mean absolute error: 0.5891761277245617\n"
          ],
          "name": "stdout"
        }
      ]
    },
    {
      "cell_type": "markdown",
      "metadata": {
        "id": "0NoA42bu-KOr"
      },
      "source": [
        "This means that on average our predictions on test set are off by ~ `0.59`, which doesn't look too bad, but considering our values range from 3 to 9, it is not ideal."
      ]
    },
    {
      "cell_type": "markdown",
      "metadata": {
        "id": "Pfkfp4mg9rgW"
      },
      "source": [
        "### Support Vector Regression"
      ]
    },
    {
      "cell_type": "markdown",
      "metadata": {
        "id": "eyF9_O06-NMs"
      },
      "source": [
        "Let's try Support Vector Regression."
      ]
    },
    {
      "cell_type": "code",
      "metadata": {
        "id": "l-0URQ7e9ueQ",
        "colab": {
          "base_uri": "https://localhost:8080/"
        },
        "outputId": "9be70e0d-be09-4bc9-85c5-12c19fa21eba"
      },
      "source": [
        "model = SVR().fit(X_train, y_train)\n",
        "\n",
        "print(f'Cross validation score: {cross_val_score(model, X_train, y_train).mean()}')\n",
        "\n",
        "y_pred = model.predict(X_test)\n",
        "\n",
        "print(f'Mean absolute error: {mean_absolute_error(y_test, y_pred)}')"
      ],
      "execution_count": null,
      "outputs": [
        {
          "output_type": "stream",
          "text": [
            "Cross validation score: 0.3457582609665141\n",
            "Mean absolute error: 0.5279197259865616\n"
          ],
          "name": "stdout"
        }
      ]
    },
    {
      "cell_type": "markdown",
      "metadata": {
        "id": "pHpz5k-l-Qgp"
      },
      "source": [
        "Support Vector Regression predictions are off by ~ `0.53`, which seems better than Linear Regression, but still could be improved."
      ]
    },
    {
      "cell_type": "markdown",
      "metadata": {
        "id": "XzCYPdrV90gQ"
      },
      "source": [
        "### Random Forest Regression"
      ]
    },
    {
      "cell_type": "markdown",
      "metadata": {
        "id": "FwupooQO-UUc"
      },
      "source": [
        "Let's try a more sophisticated model Random Forest Regressor. "
      ]
    },
    {
      "cell_type": "code",
      "metadata": {
        "id": "kAZFplrl93RD",
        "colab": {
          "base_uri": "https://localhost:8080/"
        },
        "outputId": "4ec42325-6a85-49f3-e738-8cea85dc8f32"
      },
      "source": [
        "model = RandomForestRegressor().fit(X_train, y_train)\n",
        "\n",
        "print(f'Cross validation score: {cross_val_score(model, X_train, y_train).mean()}')\n",
        "\n",
        "y_pred = model.predict(X_test)\n",
        "\n",
        "print(f'Mean absolute error: {mean_absolute_error(y_test, y_pred)}')"
      ],
      "execution_count": null,
      "outputs": [
        {
          "output_type": "stream",
          "text": [
            "Cross validation score: 0.45699407050734236\n",
            "Mean absolute error: 0.4292142857142857\n"
          ],
          "name": "stdout"
        }
      ]
    },
    {
      "cell_type": "markdown",
      "metadata": {
        "id": "PKKmTnUs4igQ"
      },
      "source": [
        "Random Forest Regression provides even a better result than support vector regression ~ `0.43`. Don't forget that our predicted values have numbers after the decimal point and our y_test values are integers only, thus it would be nearly impossible to get error with a value very close to 0. If the model predicts quality of 6.9, we kind of imagine that it wanted to predict a value of 7. What if we approach the predictions in a slightly different way? In a way that the model gave the highest probability that the integer 7 is the quality of this data point, because 7 is the closest integer to the prediction of 6.9. Let's try calculating mean absolute error using rounded values."
      ]
    },
    {
      "cell_type": "code",
      "metadata": {
        "colab": {
          "base_uri": "https://localhost:8080/"
        },
        "id": "-rEPGVgEHPYx",
        "outputId": "7870db1e-e5d6-4d94-9b68-4efef0819135"
      },
      "source": [
        "print(f'Mean absolute error using rounded predictions: {mean_absolute_error(y_test, y_pred.round())}')"
      ],
      "execution_count": null,
      "outputs": [
        {
          "output_type": "stream",
          "text": [
            "Mean absolute error using rounded predictions: 0.3622448979591837\n"
          ],
          "name": "stdout"
        }
      ]
    },
    {
      "cell_type": "markdown",
      "metadata": {
        "id": "Hut3gpgmIEI0"
      },
      "source": [
        "With this kind of approach we achieved a better result."
      ]
    },
    {
      "cell_type": "markdown",
      "metadata": {
        "id": "0xLzZ0E28Tl1"
      },
      "source": [
        "## Machine Learning - Classification"
      ]
    },
    {
      "cell_type": "markdown",
      "metadata": {
        "id": "qE6-qnXCVKik"
      },
      "source": [
        "Let's store is_high_quality to y for classification."
      ]
    },
    {
      "cell_type": "code",
      "metadata": {
        "id": "RvovHeC2U3rj"
      },
      "source": [
        "y = white_df[classif_pred_feat]\n",
        "\n",
        "X_train, X_test, y_train, y_test = train_test_split(X, y, test_size=0.2, random_state=seed)"
      ],
      "execution_count": null,
      "outputs": []
    },
    {
      "cell_type": "markdown",
      "metadata": {
        "id": "1rAZ4RsKVSfN"
      },
      "source": [
        "Normalize the data:"
      ]
    },
    {
      "cell_type": "code",
      "metadata": {
        "id": "pvk7mnY_VTgu"
      },
      "source": [
        "# Train data\n",
        "mean = X_train.mean(axis=0)\n",
        "X_train -= mean\n",
        "std = X_train.std(axis=0)\n",
        "X_train /= std\n",
        "\n",
        "# Test data\n",
        "X_test -= mean\n",
        "X_test /= std"
      ],
      "execution_count": null,
      "outputs": []
    },
    {
      "cell_type": "markdown",
      "metadata": {
        "id": "VxJNPlMSKZvR"
      },
      "source": [
        "### Logistic Regression"
      ]
    },
    {
      "cell_type": "markdown",
      "metadata": {
        "id": "F6kp2RpH5goG"
      },
      "source": [
        "Logistic Regression is a statistical model that uses logistic function to model a binary dependent variable (i.e. our target values `y`), therefore it can be used for binary classification problems."
      ]
    },
    {
      "cell_type": "code",
      "metadata": {
        "colab": {
          "base_uri": "https://localhost:8080/"
        },
        "id": "kmNcwZMtLcPa",
        "outputId": "05a79b7c-cb6d-45ff-929a-838f6e624309"
      },
      "source": [
        "clf = LogisticRegression()\n",
        "\n",
        "clf.fit(X_train, y_train)\n",
        "\n",
        "# predictions on training set\n",
        "y_pred_train = clf.predict(X_train)\n",
        "\n",
        "# predictions on test set\n",
        "y_pred_test = clf.predict(X_test)\n",
        "\n",
        "print('Train Set Predictions Report:\\n')\n",
        "print(classification_report(y_train, y_pred_train))\n",
        "print('Test Set Predictions Report:\\n')\n",
        "print(classification_report(y_test, y_pred_test))\n",
        "\n",
        "scores = cross_val_score(clf, X_train, y_train, cv=5)\n",
        "print(f\"Cross-validation scores: {scores.mean():.2f} (± {scores.std() * 2:.2f})\")"
      ],
      "execution_count": null,
      "outputs": [
        {
          "output_type": "stream",
          "text": [
            "Train Set Predictions Report:\n",
            "\n",
            "              precision    recall  f1-score   support\n",
            "\n",
            "           0       0.76      0.86      0.81      2589\n",
            "           1       0.64      0.49      0.55      1329\n",
            "\n",
            "    accuracy                           0.73      3918\n",
            "   macro avg       0.70      0.67      0.68      3918\n",
            "weighted avg       0.72      0.73      0.72      3918\n",
            "\n",
            "Test Set Predictions Report:\n",
            "\n",
            "              precision    recall  f1-score   support\n",
            "\n",
            "           0       0.77      0.85      0.81       669\n",
            "           1       0.59      0.47      0.52       311\n",
            "\n",
            "    accuracy                           0.73       980\n",
            "   macro avg       0.68      0.66      0.67       980\n",
            "weighted avg       0.72      0.73      0.72       980\n",
            "\n",
            "Cross-validation scores: 0.73 (± 0.02)\n"
          ],
          "name": "stdout"
        }
      ]
    },
    {
      "cell_type": "markdown",
      "metadata": {
        "id": "Xl0AcOe7kOZZ"
      },
      "source": [
        "### SVC"
      ]
    },
    {
      "cell_type": "code",
      "metadata": {
        "colab": {
          "base_uri": "https://localhost:8080/"
        },
        "id": "ip6RVNjokgVb",
        "outputId": "0c16eff3-3e4f-40dc-bfaa-9e256e2d4fda"
      },
      "source": [
        "clf = SVC()\n",
        "clf.fit(X_train, y_train)\n",
        "\n",
        "# predictions on training set\n",
        "y_pred_train = clf.predict(X_train)\n",
        "\n",
        "# predictions on test set\n",
        "y_pred_test = clf.predict(X_test)\n",
        "\n",
        "print('Train Set Predictions Report:\\n')\n",
        "print(classification_report(y_train, y_pred_train))\n",
        "print('Test Set Predictions Report:\\n')\n",
        "print(classification_report(y_test, y_pred_test))\n",
        "\n",
        "scores = cross_val_score(clf, X_train, y_train)\n",
        "print(f\"Cross-validation scores: {scores.mean():.2f} (± {scores.std() * 2:.2f})\")"
      ],
      "execution_count": null,
      "outputs": [
        {
          "output_type": "stream",
          "text": [
            "Train Set Predictions Report:\n",
            "\n",
            "              precision    recall  f1-score   support\n",
            "\n",
            "           0       0.81      0.88      0.84      2589\n",
            "           1       0.72      0.61      0.66      1329\n",
            "\n",
            "    accuracy                           0.79      3918\n",
            "   macro avg       0.77      0.74      0.75      3918\n",
            "weighted avg       0.78      0.79      0.78      3918\n",
            "\n",
            "Test Set Predictions Report:\n",
            "\n",
            "              precision    recall  f1-score   support\n",
            "\n",
            "           0       0.81      0.88      0.84       669\n",
            "           1       0.69      0.56      0.61       311\n",
            "\n",
            "    accuracy                           0.78       980\n",
            "   macro avg       0.75      0.72      0.73       980\n",
            "weighted avg       0.77      0.78      0.77       980\n",
            "\n",
            "Cross-validation scores: 0.77 (± 0.02)\n"
          ],
          "name": "stdout"
        }
      ]
    },
    {
      "cell_type": "code",
      "metadata": {
        "colab": {
          "base_uri": "https://localhost:8080/"
        },
        "id": "f7px_KevnaVD",
        "outputId": "998e3851-c8a0-4f4d-a277-06b58c8b3955"
      },
      "source": [
        "tuned_parameters = [{'kernel': ['rbf'], 'C': [1, 10, 100]},\n",
        "                    {'kernel': ['poly'], 'C': [1, 10, 100]},\n",
        "                    {'kernel': ['linear'], 'C': [1, 10, 100]}]\n",
        "\n",
        "clf = GridSearchCV(SVC(), tuned_parameters)\n",
        "clf.fit(X_train, y_train)\n",
        "\n",
        "print(\"Best parameters set found on development set:\\n\")\n",
        "print(clf.best_params_)\n",
        "print(\"\\nGrid scores on development set:\\n\")\n",
        "\n",
        "means = clf.cv_results_['mean_test_score']\n",
        "stds = clf.cv_results_['std_test_score']\n",
        "for mean, std, params in zip(means, stds, clf.cv_results_['params']):\n",
        "    print(f\"{mean:.3f} (± {std * 2:.03f}) for {params}\")"
      ],
      "execution_count": null,
      "outputs": [
        {
          "output_type": "stream",
          "text": [
            "Best parameters set found on development set:\n",
            "\n",
            "{'C': 100, 'kernel': 'rbf'}\n",
            "\n",
            "Grid scores on development set:\n",
            "\n",
            "0.768 (± 0.019) for {'C': 1, 'kernel': 'rbf'}\n",
            "0.771 (± 0.028) for {'C': 10, 'kernel': 'rbf'}\n",
            "0.772 (± 0.028) for {'C': 100, 'kernel': 'rbf'}\n",
            "0.715 (± 0.027) for {'C': 1, 'kernel': 'poly'}\n",
            "0.721 (± 0.017) for {'C': 10, 'kernel': 'poly'}\n",
            "0.723 (± 0.019) for {'C': 100, 'kernel': 'poly'}\n",
            "0.737 (± 0.024) for {'C': 1, 'kernel': 'linear'}\n",
            "0.737 (± 0.023) for {'C': 10, 'kernel': 'linear'}\n",
            "0.737 (± 0.023) for {'C': 100, 'kernel': 'linear'}\n"
          ],
          "name": "stdout"
        }
      ]
    },
    {
      "cell_type": "markdown",
      "metadata": {
        "id": "D9Ygja2aoW4H"
      },
      "source": [
        "### Random Forest"
      ]
    },
    {
      "cell_type": "code",
      "metadata": {
        "colab": {
          "base_uri": "https://localhost:8080/"
        },
        "id": "bBIFALctobtA",
        "outputId": "82cb2d63-daf2-440a-a715-40a45ac5ab48"
      },
      "source": [
        "clf = RandomForestClassifier(n_estimators=300, max_depth=30, random_state=seed)\n",
        "clf.fit(X_train, y_train)\n",
        "\n",
        "# predictions on training set\n",
        "y_pred_train = clf.predict(X_train)\n",
        "\n",
        "# predictions on test set\n",
        "y_pred_test = clf.predict(X_test)\n",
        "\n",
        "print('Train Set Predictions Report:\\n')\n",
        "print(classification_report(y_train, y_pred_train))\n",
        "print('Test Set Predictions Report:\\n')\n",
        "print(classification_report(y_test, y_pred_test))\n",
        "\n",
        "scores = cross_val_score(clf, X_train, y_train)\n",
        "print(f\"Cross-validation scores: {scores.mean():.2f} (± {scores.std() * 2:.2f})\")"
      ],
      "execution_count": null,
      "outputs": [
        {
          "output_type": "stream",
          "text": [
            "Train Set Predictions Report:\n",
            "\n",
            "              precision    recall  f1-score   support\n",
            "\n",
            "           0       1.00      1.00      1.00      2589\n",
            "           1       1.00      1.00      1.00      1329\n",
            "\n",
            "    accuracy                           1.00      3918\n",
            "   macro avg       1.00      1.00      1.00      3918\n",
            "weighted avg       1.00      1.00      1.00      3918\n",
            "\n",
            "Test Set Predictions Report:\n",
            "\n",
            "              precision    recall  f1-score   support\n",
            "\n",
            "           0       0.88      0.91      0.90       669\n",
            "           1       0.80      0.74      0.77       311\n",
            "\n",
            "    accuracy                           0.86       980\n",
            "   macro avg       0.84      0.82      0.83       980\n",
            "weighted avg       0.86      0.86      0.86       980\n",
            "\n",
            "Cross-validation scores: 0.81 (± 0.03)\n"
          ],
          "name": "stdout"
        }
      ]
    },
    {
      "cell_type": "markdown",
      "metadata": {
        "id": "BI3xdvixlmvI"
      },
      "source": [
        "Let's search for the most optimal hyperparameters."
      ]
    },
    {
      "cell_type": "code",
      "metadata": {
        "colab": {
          "base_uri": "https://localhost:8080/"
        },
        "id": "EZw4D16-pJ7Y",
        "outputId": "63079f4e-4082-4e9e-b021-da07457582a8"
      },
      "source": [
        "tuned_parameters = [{'n_estimators': [20, 50, 150, 300],\n",
        "                    'max_depth': [20, 30, 40, 50]}]\n",
        "\n",
        "clf = GridSearchCV(RandomForestClassifier(), tuned_parameters)\n",
        "clf.fit(X_train, y_train)\n",
        "\n",
        "print(\"Best parameters set found on development set:\\n\")\n",
        "print(clf.best_params_)\n",
        "print(\"\\nGrid scores on development set:\\n\")\n",
        "\n",
        "means = clf.cv_results_['mean_test_score']\n",
        "stds = clf.cv_results_['std_test_score']\n",
        "for mean, std, params in zip(means, stds, clf.cv_results_['params']):\n",
        "    print(f\"{mean:.3f} (± {std * 2:.03f}) for {params}\")"
      ],
      "execution_count": null,
      "outputs": [
        {
          "output_type": "stream",
          "text": [
            "Best parameters set found on development set:\n",
            "\n",
            "{'max_depth': 30, 'n_estimators': 300}\n",
            "\n",
            "Grid scores on development set:\n",
            "\n",
            "0.809 (± 0.039) for {'max_depth': 20, 'n_estimators': 20}\n",
            "0.812 (± 0.026) for {'max_depth': 20, 'n_estimators': 50}\n",
            "0.814 (± 0.027) for {'max_depth': 20, 'n_estimators': 150}\n",
            "0.816 (± 0.031) for {'max_depth': 20, 'n_estimators': 300}\n",
            "0.807 (± 0.026) for {'max_depth': 30, 'n_estimators': 20}\n",
            "0.810 (± 0.028) for {'max_depth': 30, 'n_estimators': 50}\n",
            "0.808 (± 0.033) for {'max_depth': 30, 'n_estimators': 150}\n",
            "0.817 (± 0.026) for {'max_depth': 30, 'n_estimators': 300}\n",
            "0.812 (± 0.029) for {'max_depth': 40, 'n_estimators': 20}\n",
            "0.814 (± 0.024) for {'max_depth': 40, 'n_estimators': 50}\n",
            "0.815 (± 0.029) for {'max_depth': 40, 'n_estimators': 150}\n",
            "0.815 (± 0.037) for {'max_depth': 40, 'n_estimators': 300}\n",
            "0.807 (± 0.028) for {'max_depth': 50, 'n_estimators': 20}\n",
            "0.812 (± 0.035) for {'max_depth': 50, 'n_estimators': 50}\n",
            "0.813 (± 0.029) for {'max_depth': 50, 'n_estimators': 150}\n",
            "0.816 (± 0.030) for {'max_depth': 50, 'n_estimators': 300}\n"
          ],
          "name": "stdout"
        }
      ]
    },
    {
      "cell_type": "markdown",
      "metadata": {
        "id": "i8BcWzLW2MMk"
      },
      "source": [
        "### XGBoost"
      ]
    },
    {
      "cell_type": "code",
      "metadata": {
        "colab": {
          "base_uri": "https://localhost:8080/"
        },
        "id": "mZVkiv6L2P0K",
        "outputId": "2de089fa-574a-44a2-f2bc-95bb2a6dce2d"
      },
      "source": [
        "clf = xgb.XGBClassifier(max_depth=50, n_estimators=100, random_state=seed)\n",
        "clf.fit(X_train, y_train)\n",
        "\n",
        "# predictions on training set\n",
        "y_pred_train = clf.predict(X_train)\n",
        "\n",
        "# predictions on test set\n",
        "y_pred_test = clf.predict(X_test)\n",
        "\n",
        "print('Train Set Predictions Report:\\n')\n",
        "print(classification_report(y_train, y_pred_train))\n",
        "print('Test Set Predictions Report:\\n')\n",
        "print(classification_report(y_test, y_pred_test))\n",
        "\n",
        "scores = cross_val_score(clf, X_train, y_train)\n",
        "print(f\"Cross-validation scores: {scores.mean():.2f} (± {scores.std() * 2:.2f})\")"
      ],
      "execution_count": null,
      "outputs": [
        {
          "output_type": "stream",
          "text": [
            "Train Set Predictions Report:\n",
            "\n",
            "              precision    recall  f1-score   support\n",
            "\n",
            "           0       1.00      1.00      1.00      2589\n",
            "           1       1.00      1.00      1.00      1329\n",
            "\n",
            "    accuracy                           1.00      3918\n",
            "   macro avg       1.00      1.00      1.00      3918\n",
            "weighted avg       1.00      1.00      1.00      3918\n",
            "\n",
            "Test Set Predictions Report:\n",
            "\n",
            "              precision    recall  f1-score   support\n",
            "\n",
            "           0       0.87      0.90      0.89       669\n",
            "           1       0.78      0.72      0.75       311\n",
            "\n",
            "    accuracy                           0.84       980\n",
            "   macro avg       0.83      0.81      0.82       980\n",
            "weighted avg       0.84      0.84      0.84       980\n",
            "\n",
            "Cross-validation scores: 0.81 (± 0.02)\n"
          ],
          "name": "stdout"
        }
      ]
    },
    {
      "cell_type": "code",
      "metadata": {
        "colab": {
          "base_uri": "https://localhost:8080/"
        },
        "id": "c5e9R7db_j_5",
        "outputId": "f0f79bd2-5d55-447a-dfc9-9777848418e9"
      },
      "source": [
        "tuned_parameters = [{'n_estimators': [100, 200, 300],\n",
        "                    'max_depth': [30, 50, 70],\n",
        "                     'eta': [0.1, 0.3]}]\n",
        "\n",
        "clf = GridSearchCV(xgb.XGBClassifier(), tuned_parameters)\n",
        "clf.fit(X_train, y_train)\n",
        "\n",
        "print(\"Best parameters set found on development set:\\n\")\n",
        "print(clf.best_params_)\n",
        "print(\"\\nGrid scores on development set:\\n\")\n",
        "\n",
        "means = clf.cv_results_['mean_test_score']\n",
        "stds = clf.cv_results_['std_test_score']\n",
        "for mean, std, params in zip(means, stds, clf.cv_results_['params']):\n",
        "    print(f\"{mean:.3f} (± {std * 2:.03f}) for {params}\")"
      ],
      "execution_count": null,
      "outputs": [
        {
          "output_type": "stream",
          "text": [
            "Best parameters set found on development set:\n",
            "\n",
            "{'eta': 0.1, 'max_depth': 50, 'n_estimators': 100}\n",
            "\n",
            "Grid scores on development set:\n",
            "\n",
            "0.806 (± 0.027) for {'eta': 0.1, 'max_depth': 30, 'n_estimators': 100}\n",
            "0.805 (± 0.029) for {'eta': 0.1, 'max_depth': 30, 'n_estimators': 200}\n",
            "0.804 (± 0.029) for {'eta': 0.1, 'max_depth': 30, 'n_estimators': 300}\n",
            "0.809 (± 0.023) for {'eta': 0.1, 'max_depth': 50, 'n_estimators': 100}\n",
            "0.803 (± 0.028) for {'eta': 0.1, 'max_depth': 50, 'n_estimators': 200}\n",
            "0.803 (± 0.032) for {'eta': 0.1, 'max_depth': 50, 'n_estimators': 300}\n",
            "0.809 (± 0.023) for {'eta': 0.1, 'max_depth': 70, 'n_estimators': 100}\n",
            "0.803 (± 0.028) for {'eta': 0.1, 'max_depth': 70, 'n_estimators': 200}\n",
            "0.803 (± 0.032) for {'eta': 0.1, 'max_depth': 70, 'n_estimators': 300}\n",
            "0.806 (± 0.027) for {'eta': 0.3, 'max_depth': 30, 'n_estimators': 100}\n",
            "0.805 (± 0.029) for {'eta': 0.3, 'max_depth': 30, 'n_estimators': 200}\n",
            "0.804 (± 0.029) for {'eta': 0.3, 'max_depth': 30, 'n_estimators': 300}\n",
            "0.809 (± 0.023) for {'eta': 0.3, 'max_depth': 50, 'n_estimators': 100}\n",
            "0.803 (± 0.028) for {'eta': 0.3, 'max_depth': 50, 'n_estimators': 200}\n",
            "0.803 (± 0.032) for {'eta': 0.3, 'max_depth': 50, 'n_estimators': 300}\n",
            "0.809 (± 0.023) for {'eta': 0.3, 'max_depth': 70, 'n_estimators': 100}\n",
            "0.803 (± 0.028) for {'eta': 0.3, 'max_depth': 70, 'n_estimators': 200}\n",
            "0.803 (± 0.032) for {'eta': 0.3, 'max_depth': 70, 'n_estimators': 300}\n"
          ],
          "name": "stdout"
        }
      ]
    },
    {
      "cell_type": "markdown",
      "metadata": {
        "id": "sP2Rph6S6v1E"
      },
      "source": [
        "# Red Wine"
      ]
    },
    {
      "cell_type": "markdown",
      "metadata": {
        "id": "zLGyvuAqOpJV"
      },
      "source": [
        "## Extended Analysis"
      ]
    },
    {
      "cell_type": "markdown",
      "metadata": {
        "id": "_wJG0uHF-rJI"
      },
      "source": [
        "Lets do the similar analysis for red wine as well."
      ]
    },
    {
      "cell_type": "code",
      "metadata": {
        "colab": {
          "base_uri": "https://localhost:8080/",
          "height": 1000
        },
        "id": "3z61a-l9jIMt",
        "outputId": "23867e03-69e4-4c23-885d-a0d2bb816589"
      },
      "source": [
        "for column in red_df.columns:\n",
        "    g = sns.FacetGrid(red_df)\n",
        "    g.map(sns.histplot, column)"
      ],
      "execution_count": null,
      "outputs": [
        {
          "output_type": "display_data",
          "data": {
            "image/png": "[encoded data removed]",
            "text/plain": [
              "<Figure size 216x216 with 1 Axes>"
            ]
          },
          "metadata": {
            "tags": []
          }
        },
        {
          "output_type": "display_data",
          "data": {
            "image/png": "[encoded data removed]",
            "text/plain": [
              "<Figure size 216x216 with 1 Axes>"
            ]
          },
          "metadata": {
            "tags": []
          }
        },
        {
          "output_type": "display_data",
          "data": {
            "image/png": "[encoded data removed]",
            "text/plain": [
              "<Figure size 216x216 with 1 Axes>"
            ]
          },
          "metadata": {
            "tags": []
          }
        },
        {
          "output_type": "display_data",
          "data": {
            "image/png": "[encoded data removed]",
            "text/plain": [
              "<Figure size 216x216 with 1 Axes>"
            ]
          },
          "metadata": {
            "tags": []
          }
        },
        {
          "output_type": "display_data",
          "data": {
            "image/png": "[encoded data removed]",
            "text/plain": [
              "<Figure size 216x216 with 1 Axes>"
            ]
          },
          "metadata": {
            "tags": []
          }
        },
        {
          "output_type": "display_data",
          "data": {
            "image/png": "[encoded data removed]",
            "text/plain": [
              "<Figure size 216x216 with 1 Axes>"
            ]
          },
          "metadata": {
            "tags": []
          }
        },
        {
          "output_type": "display_data",
          "data": {
            "image/png": "[encoded data removed]",
            "text/plain": [
              "<Figure size 216x216 with 1 Axes>"
            ]
          },
          "metadata": {
            "tags": []
          }
        },
        {
          "output_type": "display_data",
          "data": {
            "image/png": "[encoded data removed]",
            "text/plain": [
              "<Figure size 216x216 with 1 Axes>"
            ]
          },
          "metadata": {
            "tags": []
          }
        },
        {
          "output_type": "display_data",
          "data": {
            "image/png": "[encoded data removed]",
            "text/plain": [
              "<Figure size 216x216 with 1 Axes>"
            ]
          },
          "metadata": {
            "tags": []
          }
        },
        {
          "output_type": "display_data",
          "data": {
            "image/png": "[encoded data removed]",
            "text/plain": [
              "<Figure size 216x216 with 1 Axes>"
            ]
          },
          "metadata": {
            "tags": []
          }
        },
        {
          "output_type": "display_data",
          "data": {
            "image/png": "[encoded data removed]",
            "text/plain": [
              "<Figure size 216x216 with 1 Axes>"
            ]
          },
          "metadata": {
            "tags": []
          }
        },
        {
          "output_type": "display_data",
          "data": {
            "image/png": "[encoded data removed]",
            "text/plain": [
              "<Figure size 216x216 with 1 Axes>"
            ]
          },
          "metadata": {
            "tags": []
          }
        },
        {
          "output_type": "display_data",
          "data": {
            "image/png": "[encoded data removed]",
            "text/plain": [
              "<Figure size 216x216 with 1 Axes>"
            ]
          },
          "metadata": {
            "tags": []
          }
        },
        {
          "output_type": "display_data",
          "data": {
            "image/png": "[encoded data removed]",
            "text/plain": [
              "<Figure size 216x216 with 1 Axes>"
            ]
          },
          "metadata": {
            "tags": []
          }
        },
        {
          "output_type": "display_data",
          "data": {
            "image/png": "[encoded data removed]",
            "text/plain": [
              "<Figure size 216x216 with 1 Axes>"
            ]
          },
          "metadata": {
            "tags": []
          }
        }
      ]
    },
    {
      "cell_type": "markdown",
      "metadata": {
        "id": "FL3MzizUbqQb"
      },
      "source": [
        "We'll try both Spearman's rank and Pearson correlation coefficients for the same reason - quality can be perceived as both continuous values and rank."
      ]
    },
    {
      "cell_type": "code",
      "metadata": {
        "colab": {
          "base_uri": "https://localhost:8080/"
        },
        "id": "SEgvQwQhdm17",
        "outputId": "f0d42412-9123-4086-f498-d88ce87bbd08"
      },
      "source": [
        "red_df.corr(method='spearman').quality"
      ],
      "execution_count": null,
      "outputs": [
        {
          "output_type": "execute_result",
          "data": {
            "text/plain": [
              "fixed acidity           0.114084\n",
              "volatile acidity       -0.380647\n",
              "citric acid             0.213481\n",
              "residual sugar          0.032048\n",
              "chlorides              -0.189922\n",
              "free sulfur dioxide    -0.056901\n",
              "total sulfur dioxide   -0.196735\n",
              "density                -0.177074\n",
              "pH                     -0.043672\n",
              "sulphates               0.377060\n",
              "alcohol                 0.478532\n",
              "quality                 1.000000\n",
              "Name: quality, dtype: float64"
            ]
          },
          "metadata": {
            "tags": []
          },
          "execution_count": 58
        }
      ]
    },
    {
      "cell_type": "code",
      "metadata": {
        "id": "SdmrMdB8AAr0",
        "colab": {
          "base_uri": "https://localhost:8080/"
        },
        "outputId": "519af287-5a33-4137-9e58-42b04b6eae39"
      },
      "source": [
        "red_df.corr().quality"
      ],
      "execution_count": null,
      "outputs": [
        {
          "output_type": "execute_result",
          "data": {
            "text/plain": [
              "fixed acidity           0.124052\n",
              "volatile acidity       -0.390558\n",
              "citric acid             0.226373\n",
              "residual sugar          0.013732\n",
              "chlorides              -0.128907\n",
              "free sulfur dioxide    -0.050656\n",
              "total sulfur dioxide   -0.185100\n",
              "density                -0.174919\n",
              "pH                     -0.057731\n",
              "sulphates               0.251397\n",
              "alcohol                 0.476166\n",
              "quality                 1.000000\n",
              "Name: quality, dtype: float64"
            ]
          },
          "metadata": {
            "tags": []
          },
          "execution_count": 59
        }
      ]
    },
    {
      "cell_type": "markdown",
      "metadata": {
        "id": "ECV-T9Tsg7Vr"
      },
      "source": [
        "Again, highest positive correlation with alcohol, but for red wine quality the highest negative correlation is with volatile acidity. Let's look how each feature correlates with each other."
      ]
    },
    {
      "cell_type": "code",
      "metadata": {
        "colab": {
          "base_uri": "https://localhost:8080/",
          "height": 394
        },
        "id": "izKiTieYcYC7",
        "outputId": "3ac4b61e-7031-4483-fc86-978b91aef632"
      },
      "source": [
        "red_corr_mat = red_df.corr()\n",
        "\n",
        "sns.heatmap(red_corr_mat, vmin=-1, vmax=1, center=0, linewidths=0.2, cmap='coolwarm').set_title(\"Red Wine\")"
      ],
      "execution_count": null,
      "outputs": [
        {
          "output_type": "execute_result",
          "data": {
            "text/plain": [
              "Text(0.5, 1.0, 'Red Wine')"
            ]
          },
          "metadata": {
            "tags": []
          },
          "execution_count": 60
        },
        {
          "output_type": "display_data",
          "data": {
            "image/png": "[encoded data removed]",
            "text/plain": [
              "<Figure size 432x288 with 2 Axes>"
            ]
          },
          "metadata": {
            "tags": []
          }
        }
      ]
    },
    {
      "cell_type": "markdown",
      "metadata": {
        "id": "Vx4-gKSsh5ST"
      },
      "source": [
        "Total sulfur dioxide has a very high correlation with free sulfur dioxide, the explanation is the same as it was with white wine. We can also see that pH has a high negative correlation with fixed acidity, citric acid a high positive with fixed acidity and citric acid a high negative correlation with volatile acidity. Let's check the numbers."
      ]
    },
    {
      "cell_type": "code",
      "metadata": {
        "colab": {
          "base_uri": "https://localhost:8080/",
          "height": 520
        },
        "id": "-fhOF2QL1bze",
        "outputId": "c829cde7-2a91-44ac-e654-a8248591537b"
      },
      "source": [
        "red_corr_mat"
      ],
      "execution_count": null,
      "outputs": [
        {
          "output_type": "execute_result",
          "data": {
            "text/html": [
              "<div>\n",
              "<style scoped>\n",
              "    .dataframe tbody tr th:only-of-type {\n",
              "        vertical-align: middle;\n",
              "    }\n",
              "\n",
              "    .dataframe tbody tr th {\n",
              "        vertical-align: top;\n",
              "    }\n",
              "\n",
              "    .dataframe thead th {\n",
              "        text-align: right;\n",
              "    }\n",
              "</style>\n",
              "<table border=\"1\" class=\"dataframe\">\n",
              "  <thead>\n",
              "    <tr style=\"text-align: right;\">\n",
              "      <th></th>\n",
              "      <th>fixed acidity</th>\n",
              "      <th>volatile acidity</th>\n",
              "      <th>citric acid</th>\n",
              "      <th>residual sugar</th>\n",
              "      <th>chlorides</th>\n",
              "      <th>free sulfur dioxide</th>\n",
              "      <th>total sulfur dioxide</th>\n",
              "      <th>density</th>\n",
              "      <th>pH</th>\n",
              "      <th>sulphates</th>\n",
              "      <th>alcohol</th>\n",
              "      <th>quality</th>\n",
              "    </tr>\n",
              "  </thead>\n",
              "  <tbody>\n",
              "    <tr>\n",
              "      <th>fixed acidity</th>\n",
              "      <td>1.000000</td>\n",
              "      <td>-0.256131</td>\n",
              "      <td>0.671703</td>\n",
              "      <td>0.114777</td>\n",
              "      <td>0.093705</td>\n",
              "      <td>-0.153794</td>\n",
              "      <td>-0.113181</td>\n",
              "      <td>0.668047</td>\n",
              "      <td>-0.682978</td>\n",
              "      <td>0.183006</td>\n",
              "      <td>-0.061668</td>\n",
              "      <td>0.124052</td>\n",
              "    </tr>\n",
              "    <tr>\n",
              "      <th>volatile acidity</th>\n",
              "      <td>-0.256131</td>\n",
              "      <td>1.000000</td>\n",
              "      <td>-0.552496</td>\n",
              "      <td>0.001918</td>\n",
              "      <td>0.061298</td>\n",
              "      <td>-0.010504</td>\n",
              "      <td>0.076470</td>\n",
              "      <td>0.022026</td>\n",
              "      <td>0.234937</td>\n",
              "      <td>-0.260987</td>\n",
              "      <td>-0.202288</td>\n",
              "      <td>-0.390558</td>\n",
              "    </tr>\n",
              "    <tr>\n",
              "      <th>citric acid</th>\n",
              "      <td>0.671703</td>\n",
              "      <td>-0.552496</td>\n",
              "      <td>1.000000</td>\n",
              "      <td>0.143577</td>\n",
              "      <td>0.203823</td>\n",
              "      <td>-0.060978</td>\n",
              "      <td>0.035533</td>\n",
              "      <td>0.364947</td>\n",
              "      <td>-0.541904</td>\n",
              "      <td>0.312770</td>\n",
              "      <td>0.109903</td>\n",
              "      <td>0.226373</td>\n",
              "    </tr>\n",
              "    <tr>\n",
              "      <th>residual sugar</th>\n",
              "      <td>0.114777</td>\n",
              "      <td>0.001918</td>\n",
              "      <td>0.143577</td>\n",
              "      <td>1.000000</td>\n",
              "      <td>0.055610</td>\n",
              "      <td>0.187049</td>\n",
              "      <td>0.203028</td>\n",
              "      <td>0.355283</td>\n",
              "      <td>-0.085652</td>\n",
              "      <td>0.005527</td>\n",
              "      <td>0.042075</td>\n",
              "      <td>0.013732</td>\n",
              "    </tr>\n",
              "    <tr>\n",
              "      <th>chlorides</th>\n",
              "      <td>0.093705</td>\n",
              "      <td>0.061298</td>\n",
              "      <td>0.203823</td>\n",
              "      <td>0.055610</td>\n",
              "      <td>1.000000</td>\n",
              "      <td>0.005562</td>\n",
              "      <td>0.047400</td>\n",
              "      <td>0.200632</td>\n",
              "      <td>-0.265026</td>\n",
              "      <td>0.371260</td>\n",
              "      <td>-0.221141</td>\n",
              "      <td>-0.128907</td>\n",
              "    </tr>\n",
              "    <tr>\n",
              "      <th>free sulfur dioxide</th>\n",
              "      <td>-0.153794</td>\n",
              "      <td>-0.010504</td>\n",
              "      <td>-0.060978</td>\n",
              "      <td>0.187049</td>\n",
              "      <td>0.005562</td>\n",
              "      <td>1.000000</td>\n",
              "      <td>0.667666</td>\n",
              "      <td>-0.021946</td>\n",
              "      <td>0.070377</td>\n",
              "      <td>0.051658</td>\n",
              "      <td>-0.069408</td>\n",
              "      <td>-0.050656</td>\n",
              "    </tr>\n",
              "    <tr>\n",
              "      <th>total sulfur dioxide</th>\n",
              "      <td>-0.113181</td>\n",
              "      <td>0.076470</td>\n",
              "      <td>0.035533</td>\n",
              "      <td>0.203028</td>\n",
              "      <td>0.047400</td>\n",
              "      <td>0.667666</td>\n",
              "      <td>1.000000</td>\n",
              "      <td>0.071269</td>\n",
              "      <td>-0.066495</td>\n",
              "      <td>0.042947</td>\n",
              "      <td>-0.205654</td>\n",
              "      <td>-0.185100</td>\n",
              "    </tr>\n",
              "    <tr>\n",
              "      <th>density</th>\n",
              "      <td>0.668047</td>\n",
              "      <td>0.022026</td>\n",
              "      <td>0.364947</td>\n",
              "      <td>0.355283</td>\n",
              "      <td>0.200632</td>\n",
              "      <td>-0.021946</td>\n",
              "      <td>0.071269</td>\n",
              "      <td>1.000000</td>\n",
              "      <td>-0.341699</td>\n",
              "      <td>0.148506</td>\n",
              "      <td>-0.496180</td>\n",
              "      <td>-0.174919</td>\n",
              "    </tr>\n",
              "    <tr>\n",
              "      <th>pH</th>\n",
              "      <td>-0.682978</td>\n",
              "      <td>0.234937</td>\n",
              "      <td>-0.541904</td>\n",
              "      <td>-0.085652</td>\n",
              "      <td>-0.265026</td>\n",
              "      <td>0.070377</td>\n",
              "      <td>-0.066495</td>\n",
              "      <td>-0.341699</td>\n",
              "      <td>1.000000</td>\n",
              "      <td>-0.196648</td>\n",
              "      <td>0.205633</td>\n",
              "      <td>-0.057731</td>\n",
              "    </tr>\n",
              "    <tr>\n",
              "      <th>sulphates</th>\n",
              "      <td>0.183006</td>\n",
              "      <td>-0.260987</td>\n",
              "      <td>0.312770</td>\n",
              "      <td>0.005527</td>\n",
              "      <td>0.371260</td>\n",
              "      <td>0.051658</td>\n",
              "      <td>0.042947</td>\n",
              "      <td>0.148506</td>\n",
              "      <td>-0.196648</td>\n",
              "      <td>1.000000</td>\n",
              "      <td>0.093595</td>\n",
              "      <td>0.251397</td>\n",
              "    </tr>\n",
              "    <tr>\n",
              "      <th>alcohol</th>\n",
              "      <td>-0.061668</td>\n",
              "      <td>-0.202288</td>\n",
              "      <td>0.109903</td>\n",
              "      <td>0.042075</td>\n",
              "      <td>-0.221141</td>\n",
              "      <td>-0.069408</td>\n",
              "      <td>-0.205654</td>\n",
              "      <td>-0.496180</td>\n",
              "      <td>0.205633</td>\n",
              "      <td>0.093595</td>\n",
              "      <td>1.000000</td>\n",
              "      <td>0.476166</td>\n",
              "    </tr>\n",
              "    <tr>\n",
              "      <th>quality</th>\n",
              "      <td>0.124052</td>\n",
              "      <td>-0.390558</td>\n",
              "      <td>0.226373</td>\n",
              "      <td>0.013732</td>\n",
              "      <td>-0.128907</td>\n",
              "      <td>-0.050656</td>\n",
              "      <td>-0.185100</td>\n",
              "      <td>-0.174919</td>\n",
              "      <td>-0.057731</td>\n",
              "      <td>0.251397</td>\n",
              "      <td>0.476166</td>\n",
              "      <td>1.000000</td>\n",
              "    </tr>\n",
              "  </tbody>\n",
              "</table>\n",
              "</div>"
            ],
            "text/plain": [
              "                      fixed acidity  volatile acidity  ...   alcohol   quality\n",
              "fixed acidity              1.000000         -0.256131  ... -0.061668  0.124052\n",
              "volatile acidity          -0.256131          1.000000  ... -0.202288 -0.390558\n",
              "citric acid                0.671703         -0.552496  ...  0.109903  0.226373\n",
              "residual sugar             0.114777          0.001918  ...  0.042075  0.013732\n",
              "chlorides                  0.093705          0.061298  ... -0.221141 -0.128907\n",
              "free sulfur dioxide       -0.153794         -0.010504  ... -0.069408 -0.050656\n",
              "total sulfur dioxide      -0.113181          0.076470  ... -0.205654 -0.185100\n",
              "density                    0.668047          0.022026  ... -0.496180 -0.174919\n",
              "pH                        -0.682978          0.234937  ...  0.205633 -0.057731\n",
              "sulphates                  0.183006         -0.260987  ...  0.093595  0.251397\n",
              "alcohol                   -0.061668         -0.202288  ...  1.000000  0.476166\n",
              "quality                    0.124052         -0.390558  ...  0.476166  1.000000\n",
              "\n",
              "[12 rows x 12 columns]"
            ]
          },
          "metadata": {
            "tags": []
          },
          "execution_count": 61
        }
      ]
    },
    {
      "cell_type": "markdown",
      "metadata": {
        "id": "Sp1_QtWejYNs"
      },
      "source": [
        "Some correlations that we are currently interested in:\n",
        "\n",
        "\n",
        "*   citric acid and fixed acidity ~ `0.66`\n",
        "*   citric acid and volatile acidity ~ `-0.61`\n",
        "*   pH and fixed acidity ~ `-0.71`\n",
        "\n"
      ]
    },
    {
      "cell_type": "markdown",
      "metadata": {
        "id": "Ubc_vm9Okv7C"
      },
      "source": [
        "Several fixed acids originating in grapes are found in wine. Some of these are tartaric, malic, citric. It means that citric acid is part of wine's fixed acidity, which explains `0.66` correlation between those two. Volatile acidity is the other group of total acids found in wine, thus correlation `-0.61` between citric acid and volatile acidity is not so obvious and does not give us a good idea of what to do with them. Although, ~ `-0.28` correlation between fixed and volatile acidity indicates that wine makers might balance those two types of acids to achieve total acidity less than some certain limit. What all of this tells us?\n",
        "\n",
        "Citric acid being part of fixed acidity means that predicting quality using both of these might introduce some redundancy. We'll have to consider training model using only one of them, but right now we cannot be sure which one - we do not know how fixed acids other than citric impact the quality of wine. (Correlation coefficients indicate that citric acid has more effect on quality than fixed acidity, but we will experiment with that later.)\n",
        "\n",
        "What about pH and fixed acidity `-0.71` correlation? Research suggests that acids' ability to dissociate affects pH, but there is no direct relationship between their concentration in wine."
      ]
    },
    {
      "cell_type": "markdown",
      "metadata": {
        "id": "PjiOtfW7basB"
      },
      "source": [
        "Let's see if we can find any valuable information looking at the statistics of features."
      ]
    },
    {
      "cell_type": "code",
      "metadata": {
        "colab": {
          "base_uri": "https://localhost:8080/",
          "height": 338
        },
        "id": "976sLH3a3FKV",
        "outputId": "b2825cb7-bfd6-46fa-a137-76bab01a7edb"
      },
      "source": [
        "red_df.describe()"
      ],
      "execution_count": null,
      "outputs": [
        {
          "output_type": "execute_result",
          "data": {
            "text/html": [
              "<div>\n",
              "<style scoped>\n",
              "    .dataframe tbody tr th:only-of-type {\n",
              "        vertical-align: middle;\n",
              "    }\n",
              "\n",
              "    .dataframe tbody tr th {\n",
              "        vertical-align: top;\n",
              "    }\n",
              "\n",
              "    .dataframe thead th {\n",
              "        text-align: right;\n",
              "    }\n",
              "</style>\n",
              "<table border=\"1\" class=\"dataframe\">\n",
              "  <thead>\n",
              "    <tr style=\"text-align: right;\">\n",
              "      <th></th>\n",
              "      <th>fixed acidity</th>\n",
              "      <th>volatile acidity</th>\n",
              "      <th>citric acid</th>\n",
              "      <th>residual sugar</th>\n",
              "      <th>chlorides</th>\n",
              "      <th>free sulfur dioxide</th>\n",
              "      <th>total sulfur dioxide</th>\n",
              "      <th>density</th>\n",
              "      <th>pH</th>\n",
              "      <th>sulphates</th>\n",
              "      <th>alcohol</th>\n",
              "      <th>quality</th>\n",
              "      <th>alcohol_cat</th>\n",
              "      <th>is_sweet</th>\n",
              "      <th>is_high_quality</th>\n",
              "    </tr>\n",
              "  </thead>\n",
              "  <tbody>\n",
              "    <tr>\n",
              "      <th>count</th>\n",
              "      <td>1599.000000</td>\n",
              "      <td>1599.000000</td>\n",
              "      <td>1599.000000</td>\n",
              "      <td>1599.000000</td>\n",
              "      <td>1599.000000</td>\n",
              "      <td>1599.000000</td>\n",
              "      <td>1599.000000</td>\n",
              "      <td>1599.000000</td>\n",
              "      <td>1599.000000</td>\n",
              "      <td>1599.000000</td>\n",
              "      <td>1599.000000</td>\n",
              "      <td>1599.000000</td>\n",
              "      <td>1599.000000</td>\n",
              "      <td>1599.000000</td>\n",
              "      <td>1599.000000</td>\n",
              "    </tr>\n",
              "    <tr>\n",
              "      <th>mean</th>\n",
              "      <td>8.319637</td>\n",
              "      <td>0.527821</td>\n",
              "      <td>0.270976</td>\n",
              "      <td>2.538806</td>\n",
              "      <td>0.087467</td>\n",
              "      <td>15.874922</td>\n",
              "      <td>46.467792</td>\n",
              "      <td>0.996747</td>\n",
              "      <td>3.311113</td>\n",
              "      <td>0.658149</td>\n",
              "      <td>10.422983</td>\n",
              "      <td>5.636023</td>\n",
              "      <td>1.053784</td>\n",
              "      <td>0.529706</td>\n",
              "      <td>0.534709</td>\n",
              "    </tr>\n",
              "    <tr>\n",
              "      <th>std</th>\n",
              "      <td>1.741096</td>\n",
              "      <td>0.179060</td>\n",
              "      <td>0.194801</td>\n",
              "      <td>1.409928</td>\n",
              "      <td>0.047065</td>\n",
              "      <td>10.460157</td>\n",
              "      <td>32.895324</td>\n",
              "      <td>0.001887</td>\n",
              "      <td>0.154386</td>\n",
              "      <td>0.169507</td>\n",
              "      <td>1.065668</td>\n",
              "      <td>0.807569</td>\n",
              "      <td>0.541965</td>\n",
              "      <td>0.499273</td>\n",
              "      <td>0.498950</td>\n",
              "    </tr>\n",
              "    <tr>\n",
              "      <th>min</th>\n",
              "      <td>4.600000</td>\n",
              "      <td>0.120000</td>\n",
              "      <td>0.000000</td>\n",
              "      <td>0.900000</td>\n",
              "      <td>0.012000</td>\n",
              "      <td>1.000000</td>\n",
              "      <td>6.000000</td>\n",
              "      <td>0.990070</td>\n",
              "      <td>2.740000</td>\n",
              "      <td>0.330000</td>\n",
              "      <td>8.400000</td>\n",
              "      <td>3.000000</td>\n",
              "      <td>0.000000</td>\n",
              "      <td>0.000000</td>\n",
              "      <td>0.000000</td>\n",
              "    </tr>\n",
              "    <tr>\n",
              "      <th>25%</th>\n",
              "      <td>7.100000</td>\n",
              "      <td>0.390000</td>\n",
              "      <td>0.090000</td>\n",
              "      <td>1.900000</td>\n",
              "      <td>0.070000</td>\n",
              "      <td>7.000000</td>\n",
              "      <td>22.000000</td>\n",
              "      <td>0.995600</td>\n",
              "      <td>3.210000</td>\n",
              "      <td>0.550000</td>\n",
              "      <td>9.500000</td>\n",
              "      <td>5.000000</td>\n",
              "      <td>1.000000</td>\n",
              "      <td>0.000000</td>\n",
              "      <td>0.000000</td>\n",
              "    </tr>\n",
              "    <tr>\n",
              "      <th>50%</th>\n",
              "      <td>7.900000</td>\n",
              "      <td>0.520000</td>\n",
              "      <td>0.260000</td>\n",
              "      <td>2.200000</td>\n",
              "      <td>0.079000</td>\n",
              "      <td>14.000000</td>\n",
              "      <td>38.000000</td>\n",
              "      <td>0.996750</td>\n",
              "      <td>3.310000</td>\n",
              "      <td>0.620000</td>\n",
              "      <td>10.200000</td>\n",
              "      <td>6.000000</td>\n",
              "      <td>1.000000</td>\n",
              "      <td>1.000000</td>\n",
              "      <td>1.000000</td>\n",
              "    </tr>\n",
              "    <tr>\n",
              "      <th>75%</th>\n",
              "      <td>9.200000</td>\n",
              "      <td>0.640000</td>\n",
              "      <td>0.420000</td>\n",
              "      <td>2.600000</td>\n",
              "      <td>0.090000</td>\n",
              "      <td>21.000000</td>\n",
              "      <td>62.000000</td>\n",
              "      <td>0.997835</td>\n",
              "      <td>3.400000</td>\n",
              "      <td>0.730000</td>\n",
              "      <td>11.100000</td>\n",
              "      <td>6.000000</td>\n",
              "      <td>1.000000</td>\n",
              "      <td>1.000000</td>\n",
              "      <td>1.000000</td>\n",
              "    </tr>\n",
              "    <tr>\n",
              "      <th>max</th>\n",
              "      <td>15.900000</td>\n",
              "      <td>1.580000</td>\n",
              "      <td>1.000000</td>\n",
              "      <td>15.500000</td>\n",
              "      <td>0.611000</td>\n",
              "      <td>72.000000</td>\n",
              "      <td>289.000000</td>\n",
              "      <td>1.003690</td>\n",
              "      <td>4.010000</td>\n",
              "      <td>2.000000</td>\n",
              "      <td>14.900000</td>\n",
              "      <td>8.000000</td>\n",
              "      <td>2.000000</td>\n",
              "      <td>1.000000</td>\n",
              "      <td>1.000000</td>\n",
              "    </tr>\n",
              "  </tbody>\n",
              "</table>\n",
              "</div>"
            ],
            "text/plain": [
              "       fixed acidity  volatile acidity  ...     is_sweet  is_high_quality\n",
              "count    1599.000000       1599.000000  ...  1599.000000      1599.000000\n",
              "mean        8.319637          0.527821  ...     0.529706         0.534709\n",
              "std         1.741096          0.179060  ...     0.499273         0.498950\n",
              "min         4.600000          0.120000  ...     0.000000         0.000000\n",
              "25%         7.100000          0.390000  ...     0.000000         0.000000\n",
              "50%         7.900000          0.520000  ...     1.000000         1.000000\n",
              "75%         9.200000          0.640000  ...     1.000000         1.000000\n",
              "max        15.900000          1.580000  ...     1.000000         1.000000\n",
              "\n",
              "[8 rows x 15 columns]"
            ]
          },
          "metadata": {
            "tags": []
          },
          "execution_count": 64
        }
      ]
    },
    {
      "cell_type": "markdown",
      "metadata": {
        "id": "t3fP2bCGLJko"
      },
      "source": [
        "Not much more than we already know. Let's see what information will Mutual Information provide us. "
      ]
    },
    {
      "cell_type": "code",
      "metadata": {
        "id": "XHMxQwi5PMIk"
      },
      "source": [
        "# encode categorical data to int\n",
        "red_df['alcohol_cat'] = pd.Categorical(red_df['alcohol_cat'], categories=['low', 'mid', 'high'], \n",
        "                                       ordered=True)\n",
        "red_df['alcohol_cat'], _ = pd.factorize(red_df['alcohol_cat'], sort=True)\n",
        "\n",
        "# remaining columns\n",
        "for column in red_df.select_dtypes('object'):\n",
        "  red_df[column], _ = pd.factorize(red_df[column])\n",
        "\n",
        "X_mi = red_df.loc[:, numerical + categorical]\n",
        "y_mi_regr = red_df[regr_pred_feat]\n",
        "y_mi_classif = red_df[classif_pred_feat]\n",
        "\n",
        "discrete_features = red_df.dtypes == int\n",
        "discrete_features = discrete_features.drop([regr_pred_feat, classif_pred_feat])"
      ],
      "execution_count": null,
      "outputs": []
    },
    {
      "cell_type": "code",
      "metadata": {
        "colab": {
          "base_uri": "https://localhost:8080/"
        },
        "id": "FyyhIbmXPfaB",
        "outputId": "d2e81388-635e-4173-cec9-1b66568872e2"
      },
      "source": [
        "regr_mi_scores(X_mi, y_mi_regr, discrete_features)"
      ],
      "execution_count": null,
      "outputs": [
        {
          "output_type": "execute_result",
          "data": {
            "text/plain": [
              "alcohol                 0.161491\n",
              "alcohol_cat             0.107784\n",
              "sulphates               0.103854\n",
              "volatile acidity        0.098259\n",
              "total sulfur dioxide    0.088720\n",
              "citric acid             0.071180\n",
              "fixed acidity           0.070416\n",
              "density                 0.070118\n",
              "pH                      0.028930\n",
              "free sulfur dioxide     0.012264\n",
              "chlorides               0.010668\n",
              "is_sweet                0.002430\n",
              "residual sugar          0.000000\n",
              "dtype: float64"
            ]
          },
          "metadata": {
            "tags": []
          },
          "execution_count": 65
        }
      ]
    },
    {
      "cell_type": "code",
      "metadata": {
        "colab": {
          "base_uri": "https://localhost:8080/"
        },
        "id": "JaCN1ueNP45z",
        "outputId": "edefde3e-7f37-42d4-c04c-de057cdc60b7"
      },
      "source": [
        "classif_mi_scores(X_mi, y_mi_classif, discrete_features)"
      ],
      "execution_count": null,
      "outputs": [
        {
          "output_type": "execute_result",
          "data": {
            "text/plain": [
              "alcohol                 0.125308\n",
              "alcohol_cat             0.094099\n",
              "sulphates               0.082718\n",
              "density                 0.062595\n",
              "total sulfur dioxide    0.060962\n",
              "volatile acidity        0.054206\n",
              "chlorides               0.031436\n",
              "free sulfur dioxide     0.019780\n",
              "citric acid             0.019688\n",
              "residual sugar          0.018899\n",
              "fixed acidity           0.011071\n",
              "pH                      0.000120\n",
              "is_sweet                0.000000\n",
              "dtype: float64"
            ]
          },
          "metadata": {
            "tags": []
          },
          "execution_count": 66
        }
      ]
    },
    {
      "cell_type": "markdown",
      "metadata": {
        "id": "rCRt33G0Ua1E"
      },
      "source": [
        "## Machine Learning Preparation"
      ]
    },
    {
      "cell_type": "markdown",
      "metadata": {
        "id": "eKOz7dm-NvMk"
      },
      "source": [
        "Let's think about what we've learned throughout analysis and pick features that might be the most suitable for our model. First, we can look at all the features we have."
      ]
    },
    {
      "cell_type": "code",
      "metadata": {
        "colab": {
          "base_uri": "https://localhost:8080/"
        },
        "id": "bJYMd4kjJe7q",
        "outputId": "96ad784c-ab5b-4a34-9e63-506340b6f0eb"
      },
      "source": [
        "features = numerical + categorical\n",
        "features"
      ],
      "execution_count": null,
      "outputs": [
        {
          "output_type": "execute_result",
          "data": {
            "text/plain": [
              "['fixed acidity',\n",
              " 'volatile acidity',\n",
              " 'citric acid',\n",
              " 'residual sugar',\n",
              " 'chlorides',\n",
              " 'free sulfur dioxide',\n",
              " 'total sulfur dioxide',\n",
              " 'density',\n",
              " 'pH',\n",
              " 'sulphates',\n",
              " 'alcohol',\n",
              " 'alcohol_cat',\n",
              " 'is_sweet']"
            ]
          },
          "metadata": {
            "tags": []
          },
          "execution_count": 67
        }
      ]
    },
    {
      "cell_type": "markdown",
      "metadata": {
        "id": "U-DoVQpRRfiI"
      },
      "source": [
        "As we've previously discussed variable density is redundant. We've also talked about choosing one of free sulfur dioxide and total sulfur dioxide and different correlation coefficients suggest that total sulfur dioxide has a bigger impact on quality, so we are going to use that one first, but we have to experiment with both. The same with citric acid and fixed acidity, analysis indicated that citric acid is the better choice, we are going to start with that. Categorical features alcohol_cat and is_sweet helped us to visualize the relationships, but Mutual Information method suggested that alcohol is the better choice than alcohol_cat for both regression and classification and residual sugar is the better choice than is_sweet for classification, but worse for regression. We are going to start with continuous values of alcohol and sugar."
      ]
    },
    {
      "cell_type": "code",
      "metadata": {
        "id": "Aa0vZxmTYP1u"
      },
      "source": [
        "# First\n",
        "#to_remove = ['density', 'free sulfur dioxide', 'fixed acidity', 'alcohol_cat', 'is_sweet']\n",
        "to_remove = ['alcohol_cat', 'is_sweet', 'density', 'fixed acidity', 'free sulfur dioxide']\n",
        "for feature in to_remove:\n",
        "  features.remove(feature)"
      ],
      "execution_count": null,
      "outputs": []
    },
    {
      "cell_type": "markdown",
      "metadata": {
        "id": "CFitMGksU85q"
      },
      "source": [
        "Just as we did with the white wine, we will store features that will help us to predict the quality in `X` and store the quality itself in `y`. We will also split the data into train and test sets, so that our model will have some data to train on and we will evaluate the model on test data. This ensures that the model is evaluated on a never seen data, which is the main rule of building a robust model."
      ]
    },
    {
      "cell_type": "code",
      "metadata": {
        "id": "OskZr_sdU6cS"
      },
      "source": [
        "X = red_df[features]"
      ],
      "execution_count": null,
      "outputs": []
    },
    {
      "cell_type": "markdown",
      "metadata": {
        "id": "eyYtXiBbUjT4"
      },
      "source": [
        "## Machine Learning - Regression"
      ]
    },
    {
      "cell_type": "markdown",
      "metadata": {
        "id": "eZ4xF3jSUR_1"
      },
      "source": [
        "We will store the output feature to y for regression."
      ]
    },
    {
      "cell_type": "code",
      "metadata": {
        "id": "vCDXXCM_UIkz"
      },
      "source": [
        "y = red_df[regr_pred_feat]\n",
        "\n",
        "X_train, X_test, y_train, y_test = train_test_split(X, y, test_size=0.2, random_state=seed)"
      ],
      "execution_count": null,
      "outputs": []
    },
    {
      "cell_type": "markdown",
      "metadata": {
        "id": "TLigKeBNaVYt"
      },
      "source": [
        "Normalize the data:"
      ]
    },
    {
      "cell_type": "code",
      "metadata": {
        "id": "9y0pU1nzXtyH"
      },
      "source": [
        "# Train data\n",
        "mean = X_train.mean(axis=0)\n",
        "X_train -= mean\n",
        "std = X_train.std(axis=0)\n",
        "X_train /= std\n",
        "\n",
        "# Test data\n",
        "X_test -= mean\n",
        "X_test /= std"
      ],
      "execution_count": null,
      "outputs": []
    },
    {
      "cell_type": "markdown",
      "metadata": {
        "id": "qFKBCG8FaqHb"
      },
      "source": [
        "### Linear Regression"
      ]
    },
    {
      "cell_type": "markdown",
      "metadata": {
        "id": "bGCqXs8EdlBQ"
      },
      "source": [
        "Let's create a Linear Regression model, fit it to the train data and evaluate it on test data."
      ]
    },
    {
      "cell_type": "code",
      "metadata": {
        "colab": {
          "base_uri": "https://localhost:8080/"
        },
        "id": "6K8RV_y7ao1B",
        "outputId": "e73339a3-bc62-4fd8-87c6-baf0dbd11510"
      },
      "source": [
        "model = LinearRegression().fit(X_train, y_train)\n",
        "\n",
        "print(f'Cross validation score: {cross_val_score(model, X_train, y_train).mean()}')\n",
        "\n",
        "y_pred = model.predict(X_test)\n",
        "\n",
        "print(f'Mean absolute error: {mean_absolute_error(y_test, y_pred)}')"
      ],
      "execution_count": null,
      "outputs": [
        {
          "output_type": "stream",
          "text": [
            "Cross validation score: 0.3322719686601334\n",
            "Mean absolute error: 0.5322391991797837\n"
          ],
          "name": "stdout"
        }
      ]
    },
    {
      "cell_type": "markdown",
      "metadata": {
        "id": "9aQ039Hqdugf"
      },
      "source": [
        "This means that on average our predictions are off by ~ `0.53`."
      ]
    },
    {
      "cell_type": "markdown",
      "metadata": {
        "id": "MRb3TGv10AQg"
      },
      "source": [
        "### Support Vector Regression"
      ]
    },
    {
      "cell_type": "markdown",
      "metadata": {
        "id": "10STCg9I0XB9"
      },
      "source": [
        "Let's try Support Vector Regression."
      ]
    },
    {
      "cell_type": "code",
      "metadata": {
        "colab": {
          "base_uri": "https://localhost:8080/"
        },
        "id": "_t8I7Lhr0J-S",
        "outputId": "14c24b0b-027e-46dc-d36b-3741ebed17e6"
      },
      "source": [
        "model = SVR().fit(X_train, y_train)\n",
        "\n",
        "print(f'Cross validation score: {cross_val_score(model, X_train, y_train).mean()}')\n",
        "\n",
        "y_pred = model.predict(X_test)\n",
        "\n",
        "print(f'Mean absolute error: {mean_absolute_error(y_test, y_pred)}')"
      ],
      "execution_count": null,
      "outputs": [
        {
          "output_type": "stream",
          "text": [
            "Cross validation score: 0.3634583676505323\n",
            "Mean absolute error: 0.4812799582878545\n"
          ],
          "name": "stdout"
        }
      ]
    },
    {
      "cell_type": "markdown",
      "metadata": {
        "id": "cDTX9zqe0iNG"
      },
      "source": [
        "Support Vector Regression predictions are off by ~ `0.48`, which seems better than Linear Regression by quite a margin."
      ]
    },
    {
      "cell_type": "markdown",
      "metadata": {
        "id": "nnQFZy3eeUgE"
      },
      "source": [
        "### Random Forest Regression"
      ]
    },
    {
      "cell_type": "markdown",
      "metadata": {
        "id": "P6IexodCe5QI"
      },
      "source": [
        "Let's try a more sophisticated model Random Forest Regressor. "
      ]
    },
    {
      "cell_type": "code",
      "metadata": {
        "colab": {
          "base_uri": "https://localhost:8080/"
        },
        "id": "530MUGmCfBra",
        "outputId": "f39e7ef7-abed-4810-e907-1270222d2b00"
      },
      "source": [
        "model = RandomForestRegressor().fit(X_train, y_train)\n",
        "\n",
        "print(f'Cross validation score: {cross_val_score(model, X_train, y_train).mean()}')\n",
        "\n",
        "y_pred = model.predict(X_test)\n",
        "\n",
        "print(f'Mean absolute error: {mean_absolute_error(y_test, y_pred)}')"
      ],
      "execution_count": null,
      "outputs": [
        {
          "output_type": "stream",
          "text": [
            "Cross validation score: 0.4452735130858261\n",
            "Mean absolute error: 0.453625\n"
          ],
          "name": "stdout"
        }
      ]
    },
    {
      "cell_type": "markdown",
      "metadata": {
        "id": "Gg4nWobgfTEL"
      },
      "source": [
        "Random Forest Regressor predictions are off by ~ `0.45`, which is even better than Support Vector Regression. Let's see what results rounded values produce."
      ]
    },
    {
      "cell_type": "code",
      "metadata": {
        "colab": {
          "base_uri": "https://localhost:8080/"
        },
        "id": "zH322K1WSUZv",
        "outputId": "ef3d8a8b-4f8d-4786-ac59-1a0589bf2ecb"
      },
      "source": [
        "print(f'Mean absolute error using rounded predictions: {mean_absolute_error(y_test, y_pred.round())}')"
      ],
      "execution_count": null,
      "outputs": [
        {
          "output_type": "stream",
          "text": [
            "Mean absolute error using rounded predictions: 0.378125\n"
          ],
          "name": "stdout"
        }
      ]
    },
    {
      "cell_type": "markdown",
      "metadata": {
        "id": "o5iMzifkUol6"
      },
      "source": [
        "## Machine Learning - Classification"
      ]
    },
    {
      "cell_type": "markdown",
      "metadata": {
        "id": "Gpyyom-IUhFa"
      },
      "source": [
        "We will store the output feature to y for classification."
      ]
    },
    {
      "cell_type": "code",
      "metadata": {
        "id": "EZEdTPfXT_HW"
      },
      "source": [
        "y = red_df[classif_pred_feat]\n",
        "\n",
        "X_train, X_test, y_train, y_test = train_test_split(X, y, test_size=0.2, random_state=seed)"
      ],
      "execution_count": null,
      "outputs": []
    },
    {
      "cell_type": "markdown",
      "metadata": {
        "id": "7c5ZK5BHUfwi"
      },
      "source": [
        "Normalize the data:"
      ]
    },
    {
      "cell_type": "code",
      "metadata": {
        "id": "hoIvLJ5oUbo2"
      },
      "source": [
        "# Train data\n",
        "mean = X_train.mean(axis=0)\n",
        "X_train -= mean\n",
        "std = X_train.std(axis=0)\n",
        "X_train /= std\n",
        "\n",
        "# Test data\n",
        "X_test -= mean\n",
        "X_test /= std"
      ],
      "execution_count": null,
      "outputs": []
    },
    {
      "cell_type": "markdown",
      "metadata": {
        "id": "z93k85Dj35FU"
      },
      "source": [
        "### Logistic Regression"
      ]
    },
    {
      "cell_type": "code",
      "metadata": {
        "colab": {
          "base_uri": "https://localhost:8080/"
        },
        "id": "uCHLGTev38hE",
        "outputId": "bef77f77-c0a0-457e-f423-4b6dd0bc7fb9"
      },
      "source": [
        "model = LogisticRegression(random_state=seed)\n",
        "\n",
        "model.fit(X_train, y_train)\n",
        "\n",
        "# predictions on training set\n",
        "y_pred_train = model.predict(X_train)\n",
        "\n",
        "# predictions on test set\n",
        "y_pred_test = model.predict(X_test)\n",
        "\n",
        "print('Train Set Predictions Report:\\n')\n",
        "print(classification_report(y_train, y_pred_train))\n",
        "print('Test Set Predictions Report:\\n')\n",
        "print(classification_report(y_test, y_pred_test))\n",
        "\n",
        "scores = cross_val_score(model, X_train, y_train)\n",
        "print(f\"Cross-validation scores: {scores.mean():.2f} (± {scores.std() * 2:.2f})\")"
      ],
      "execution_count": null,
      "outputs": [
        {
          "output_type": "stream",
          "text": [
            "Train Set Predictions Report:\n",
            "\n",
            "              precision    recall  f1-score   support\n",
            "\n",
            "           0       0.73      0.73      0.73       601\n",
            "           1       0.76      0.76      0.76       678\n",
            "\n",
            "    accuracy                           0.75      1279\n",
            "   macro avg       0.75      0.75      0.75      1279\n",
            "weighted avg       0.75      0.75      0.75      1279\n",
            "\n",
            "Test Set Predictions Report:\n",
            "\n",
            "              precision    recall  f1-score   support\n",
            "\n",
            "           0       0.69      0.73      0.71       143\n",
            "           1       0.77      0.73      0.75       177\n",
            "\n",
            "    accuracy                           0.73       320\n",
            "   macro avg       0.73      0.73      0.73       320\n",
            "weighted avg       0.73      0.73      0.73       320\n",
            "\n",
            "Cross-validation scores: 0.75 (± 0.03)\n"
          ],
          "name": "stdout"
        }
      ]
    },
    {
      "cell_type": "markdown",
      "metadata": {
        "id": "m3CWCmBx6a2l"
      },
      "source": [
        "### SVC"
      ]
    },
    {
      "cell_type": "code",
      "metadata": {
        "colab": {
          "base_uri": "https://localhost:8080/"
        },
        "id": "Q565NGYV6r5m",
        "outputId": "a11c749b-5fe3-4474-a44d-8fe6d6590c5c"
      },
      "source": [
        "model = SVC(random_state=seed)\n",
        "\n",
        "model.fit(X_train, y_train)\n",
        "\n",
        "# predictions on training set\n",
        "y_pred_train = model.predict(X_train)\n",
        "\n",
        "# predictions on test set\n",
        "y_pred_test = model.predict(X_test)\n",
        "\n",
        "print('Train Set Predictions Report:\\n')\n",
        "print(classification_report(y_train, y_pred_train))\n",
        "print('Test Set Predictions Report:\\n')\n",
        "print(classification_report(y_test, y_pred_test))\n",
        "\n",
        "scores = cross_val_score(model, X_train, y_train)\n",
        "print(f\"Cross-validation scores: {scores.mean():.2f} (± {scores.std() * 2:.2f})\")"
      ],
      "execution_count": null,
      "outputs": [
        {
          "output_type": "stream",
          "text": [
            "Train Set Predictions Report:\n",
            "\n",
            "              precision    recall  f1-score   support\n",
            "\n",
            "           0       0.78      0.79      0.78       601\n",
            "           1       0.81      0.80      0.81       678\n",
            "\n",
            "    accuracy                           0.79      1279\n",
            "   macro avg       0.79      0.79      0.79      1279\n",
            "weighted avg       0.79      0.79      0.79      1279\n",
            "\n",
            "Test Set Predictions Report:\n",
            "\n",
            "              precision    recall  f1-score   support\n",
            "\n",
            "           0       0.72      0.71      0.72       143\n",
            "           1       0.77      0.77      0.77       177\n",
            "\n",
            "    accuracy                           0.75       320\n",
            "   macro avg       0.74      0.74      0.74       320\n",
            "weighted avg       0.75      0.75      0.75       320\n",
            "\n",
            "Cross-validation scores: 0.76 (± 0.06)\n"
          ],
          "name": "stdout"
        }
      ]
    },
    {
      "cell_type": "markdown",
      "metadata": {
        "id": "t-RanLO27BRG"
      },
      "source": [
        "### Random Forest"
      ]
    },
    {
      "cell_type": "code",
      "metadata": {
        "colab": {
          "base_uri": "https://localhost:8080/"
        },
        "id": "OJfEXNpR7Lrb",
        "outputId": "5e8ed263-2ce1-42e1-9d5e-d5d661ca50a1"
      },
      "source": [
        "model = RandomForestClassifier(random_state=seed, max_depth=30, n_estimators=300)\n",
        "\n",
        "model.fit(X_train, y_train)\n",
        "\n",
        "# predictions on training set\n",
        "y_pred_train = model.predict(X_train)\n",
        "\n",
        "# predictions on test set\n",
        "y_pred_test = model.predict(X_test)\n",
        "\n",
        "print('Train Set Predictions Report:\\n')\n",
        "print(classification_report(y_train, y_pred_train))\n",
        "print('Test Set Predictions Report:\\n')\n",
        "print(classification_report(y_test, y_pred_test))\n",
        "\n",
        "scores = cross_val_score(model, X_train, y_train)\n",
        "print(f\"Cross-validation scores: {scores.mean():.2f} (± {scores.std() * 2:.2f})\")"
      ],
      "execution_count": null,
      "outputs": [
        {
          "output_type": "stream",
          "text": [
            "Train Set Predictions Report:\n",
            "\n",
            "              precision    recall  f1-score   support\n",
            "\n",
            "           0       1.00      1.00      1.00       601\n",
            "           1       1.00      1.00      1.00       678\n",
            "\n",
            "    accuracy                           1.00      1279\n",
            "   macro avg       1.00      1.00      1.00      1279\n",
            "weighted avg       1.00      1.00      1.00      1279\n",
            "\n",
            "Test Set Predictions Report:\n",
            "\n",
            "              precision    recall  f1-score   support\n",
            "\n",
            "           0       0.80      0.78      0.79       143\n",
            "           1       0.83      0.84      0.83       177\n",
            "\n",
            "    accuracy                           0.82       320\n",
            "   macro avg       0.81      0.81      0.81       320\n",
            "weighted avg       0.82      0.82      0.82       320\n",
            "\n",
            "Cross-validation scores: 0.81 (± 0.03)\n"
          ],
          "name": "stdout"
        }
      ]
    },
    {
      "cell_type": "code",
      "metadata": {
        "colab": {
          "base_uri": "https://localhost:8080/"
        },
        "id": "zWPpUxbG9EQP",
        "outputId": "635c2816-c511-4d1f-ce5f-b89682991f8c"
      },
      "source": [
        "tuned_parameters = [{'n_estimators': [50, 100, 200, 300],\n",
        "                    'max_depth': [10, 20, 30, 40, 50]}]\n",
        "\n",
        "model = GridSearchCV(RandomForestClassifier(random_state=seed), tuned_parameters)\n",
        "model.fit(X_train, y_train)\n",
        "\n",
        "print(\"Best parameters set found on development set:\\n\")\n",
        "print(model.best_params_)\n",
        "print(\"\\nGrid scores on development set:\\n\")\n",
        "\n",
        "means = model.cv_results_['mean_test_score']\n",
        "stds = model.cv_results_['std_test_score']\n",
        "for mean, std, params in zip(means, stds, model.cv_results_['params']):\n",
        "    print(f\"{mean:.3f} (± {std * 2:.03f}) for {params}\")"
      ],
      "execution_count": null,
      "outputs": [
        {
          "output_type": "stream",
          "text": [
            "Best parameters set found on development set:\n",
            "\n",
            "{'max_depth': 30, 'n_estimators': 50}\n",
            "\n",
            "Grid scores on development set:\n",
            "\n",
            "0.809 (± 0.029) for {'max_depth': 10, 'n_estimators': 50}\n",
            "0.807 (± 0.028) for {'max_depth': 10, 'n_estimators': 100}\n",
            "0.808 (± 0.041) for {'max_depth': 10, 'n_estimators': 200}\n",
            "0.805 (± 0.035) for {'max_depth': 10, 'n_estimators': 300}\n",
            "0.813 (± 0.052) for {'max_depth': 20, 'n_estimators': 50}\n",
            "0.810 (± 0.049) for {'max_depth': 20, 'n_estimators': 100}\n",
            "0.808 (± 0.036) for {'max_depth': 20, 'n_estimators': 200}\n",
            "0.808 (± 0.035) for {'max_depth': 20, 'n_estimators': 300}\n",
            "0.815 (± 0.052) for {'max_depth': 30, 'n_estimators': 50}\n",
            "0.812 (± 0.037) for {'max_depth': 30, 'n_estimators': 100}\n",
            "0.808 (± 0.036) for {'max_depth': 30, 'n_estimators': 200}\n",
            "0.810 (± 0.034) for {'max_depth': 30, 'n_estimators': 300}\n",
            "0.815 (± 0.052) for {'max_depth': 40, 'n_estimators': 50}\n",
            "0.812 (± 0.037) for {'max_depth': 40, 'n_estimators': 100}\n",
            "0.808 (± 0.036) for {'max_depth': 40, 'n_estimators': 200}\n",
            "0.810 (± 0.034) for {'max_depth': 40, 'n_estimators': 300}\n",
            "0.815 (± 0.052) for {'max_depth': 50, 'n_estimators': 50}\n",
            "0.812 (± 0.037) for {'max_depth': 50, 'n_estimators': 100}\n",
            "0.808 (± 0.036) for {'max_depth': 50, 'n_estimators': 200}\n",
            "0.810 (± 0.034) for {'max_depth': 50, 'n_estimators': 300}\n"
          ],
          "name": "stdout"
        }
      ]
    },
    {
      "cell_type": "markdown",
      "metadata": {
        "id": "tr6VZUUf7W4Y"
      },
      "source": [
        "### XGBoost"
      ]
    },
    {
      "cell_type": "code",
      "metadata": {
        "colab": {
          "base_uri": "https://localhost:8080/"
        },
        "id": "a3xlrOgy7ZPY",
        "outputId": "2d3f625a-2b21-4766-9444-a19a0d3e6e3f"
      },
      "source": [
        "model = xgb.XGBClassifier(random_state=seed, max_depth=30, n_estimators=300)\n",
        "model.fit(X_train, y_train)\n",
        "\n",
        "# predictions on training set\n",
        "y_pred_train = model.predict(X_train)\n",
        "\n",
        "# predictions on test set\n",
        "y_pred_test = model.predict(X_test)\n",
        "\n",
        "print('Train Set Predictions Report:\\n')\n",
        "print(classification_report(y_train, y_pred_train))\n",
        "print('Test Set Predictions Report:\\n')\n",
        "print(classification_report(y_test, y_pred_test))\n",
        "\n",
        "scores = cross_val_score(model, X_train, y_train)\n",
        "print(f\"Cross-validation scores: {scores.mean():.2f} (± {scores.std() * 2:.2f})\")"
      ],
      "execution_count": null,
      "outputs": [
        {
          "output_type": "stream",
          "text": [
            "Train Set Predictions Report:\n",
            "\n",
            "              precision    recall  f1-score   support\n",
            "\n",
            "           0       1.00      1.00      1.00       601\n",
            "           1       1.00      1.00      1.00       678\n",
            "\n",
            "    accuracy                           1.00      1279\n",
            "   macro avg       1.00      1.00      1.00      1279\n",
            "weighted avg       1.00      1.00      1.00      1279\n",
            "\n",
            "Test Set Predictions Report:\n",
            "\n",
            "              precision    recall  f1-score   support\n",
            "\n",
            "           0       0.82      0.78      0.80       143\n",
            "           1       0.83      0.86      0.84       177\n",
            "\n",
            "    accuracy                           0.82       320\n",
            "   macro avg       0.82      0.82      0.82       320\n",
            "weighted avg       0.82      0.82      0.82       320\n",
            "\n",
            "Cross-validation scores: 0.80 (± 0.03)\n"
          ],
          "name": "stdout"
        }
      ]
    },
    {
      "cell_type": "code",
      "metadata": {
        "colab": {
          "base_uri": "https://localhost:8080/"
        },
        "id": "GghNssNB72x0",
        "outputId": "e76c05df-4bb8-4756-955e-c7bff5964257"
      },
      "source": [
        "tuned_parameters = [{'n_estimators': [50, 80, 100, 200, 300],\n",
        "                    'max_depth': [20, 30, 40, 50]}]\n",
        "\n",
        "model = GridSearchCV(xgb.XGBClassifier(random_state=seed), tuned_parameters)\n",
        "model.fit(X_train, y_train)\n",
        "\n",
        "print(\"Best parameters set found on development set:\\n\")\n",
        "print(model.best_params_)\n",
        "print(\"\\nGrid scores on development set:\\n\")\n",
        "\n",
        "means = model.cv_results_['mean_test_score']\n",
        "stds = model.cv_results_['std_test_score']\n",
        "for mean, std, params in zip(means, stds, model.cv_results_['params']):\n",
        "    print(f\"{mean:.3f} (± {std * 2:.03f}) for {params}\")"
      ],
      "execution_count": null,
      "outputs": [
        {
          "output_type": "stream",
          "text": [
            "Best parameters set found on development set:\n",
            "\n",
            "{'max_depth': 20, 'n_estimators': 50}\n",
            "\n",
            "Grid scores on development set:\n",
            "\n",
            "0.803 (± 0.034) for {'max_depth': 20, 'n_estimators': 50}\n",
            "0.803 (± 0.040) for {'max_depth': 20, 'n_estimators': 80}\n",
            "0.799 (± 0.029) for {'max_depth': 20, 'n_estimators': 100}\n",
            "0.801 (± 0.029) for {'max_depth': 20, 'n_estimators': 200}\n",
            "0.801 (± 0.022) for {'max_depth': 20, 'n_estimators': 300}\n",
            "0.803 (± 0.034) for {'max_depth': 30, 'n_estimators': 50}\n",
            "0.801 (± 0.037) for {'max_depth': 30, 'n_estimators': 80}\n",
            "0.802 (± 0.035) for {'max_depth': 30, 'n_estimators': 100}\n",
            "0.801 (± 0.029) for {'max_depth': 30, 'n_estimators': 200}\n",
            "0.802 (± 0.025) for {'max_depth': 30, 'n_estimators': 300}\n",
            "0.803 (± 0.034) for {'max_depth': 40, 'n_estimators': 50}\n",
            "0.801 (± 0.037) for {'max_depth': 40, 'n_estimators': 80}\n",
            "0.802 (± 0.035) for {'max_depth': 40, 'n_estimators': 100}\n",
            "0.801 (± 0.029) for {'max_depth': 40, 'n_estimators': 200}\n",
            "0.802 (± 0.025) for {'max_depth': 40, 'n_estimators': 300}\n",
            "0.803 (± 0.034) for {'max_depth': 50, 'n_estimators': 50}\n",
            "0.801 (± 0.037) for {'max_depth': 50, 'n_estimators': 80}\n",
            "0.802 (± 0.035) for {'max_depth': 50, 'n_estimators': 100}\n",
            "0.801 (± 0.029) for {'max_depth': 50, 'n_estimators': 200}\n",
            "0.802 (± 0.025) for {'max_depth': 50, 'n_estimators': 300}\n"
          ],
          "name": "stdout"
        }
      ]
    }
  ]
}